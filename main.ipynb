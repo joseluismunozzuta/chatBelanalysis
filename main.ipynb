{
 "cells": [
  {
   "cell_type": "code",
   "execution_count": 3,
   "metadata": {
    "colab": {
     "base_uri": "https://localhost:8080/"
    },
    "id": "HDBBT-W9pmaT",
    "outputId": "9f2d7d6a-82b5-408e-e18d-d044fba6420d"
   },
   "outputs": [
    {
     "name": "stdout",
     "output_type": "stream",
     "text": [
      "Collecting emoji\n",
      "  Using cached emoji-2.12.1-py3-none-any.whl (431 kB)\n",
      "Collecting typing-extensions>=4.7.0\n",
      "  Using cached typing_extensions-4.12.2-py3-none-any.whl (37 kB)\n",
      "Installing collected packages: typing-extensions, emoji\n",
      "  Attempting uninstall: typing-extensions\n",
      "    Found existing installation: typing-extensions 3.7.4.3\n",
      "    Uninstalling typing-extensions-3.7.4.3:\n"
     ]
    },
    {
     "name": "stderr",
     "output_type": "stream",
     "text": [
      "ERROR: Could not install packages due to an EnvironmentError: [WinError 5] Acceso denegado: 'c:\\\\programdata\\\\anaconda3\\\\lib\\\\site-packages\\\\__pycache__\\\\typing_extensions.cpython-38.pyc'\n",
      "Consider using the `--user` option or check the permissions.\n",
      "\n"
     ]
    }
   ],
   "source": [
    "!pip install emoji"
   ]
  },
  {
   "cell_type": "code",
   "execution_count": 4,
   "metadata": {
    "id": "h8NVI51Wqwrh"
   },
   "outputs": [
    {
     "ename": "ModuleNotFoundError",
     "evalue": "No module named 'plotly'",
     "output_type": "error",
     "traceback": [
      "\u001b[1;31m---------------------------------------------------------------------------\u001b[0m",
      "\u001b[1;31mModuleNotFoundError\u001b[0m                       Traceback (most recent call last)",
      "\u001b[1;32m<ipython-input-4-46bd1478741e>\u001b[0m in \u001b[0;36m<module>\u001b[1;34m\u001b[0m\n\u001b[1;32m----> 1\u001b[1;33m \u001b[1;32mimport\u001b[0m \u001b[0mplotly\u001b[0m\u001b[1;33m.\u001b[0m\u001b[0mgraph_objs\u001b[0m \u001b[1;32mas\u001b[0m \u001b[0mgo\u001b[0m\u001b[1;33m\u001b[0m\u001b[1;33m\u001b[0m\u001b[0m\n\u001b[0m\u001b[0;32m      2\u001b[0m \u001b[1;32mimport\u001b[0m \u001b[0mpandas\u001b[0m \u001b[1;32mas\u001b[0m \u001b[0mpd\u001b[0m\u001b[1;33m\u001b[0m\u001b[1;33m\u001b[0m\u001b[0m\n\u001b[0;32m      3\u001b[0m \u001b[1;32mimport\u001b[0m \u001b[0mre\u001b[0m\u001b[1;33m\u001b[0m\u001b[1;33m\u001b[0m\u001b[0m\n\u001b[0;32m      4\u001b[0m \u001b[1;32mimport\u001b[0m \u001b[0msys\u001b[0m\u001b[1;33m\u001b[0m\u001b[1;33m\u001b[0m\u001b[0m\n\u001b[0;32m      5\u001b[0m \u001b[1;32mimport\u001b[0m \u001b[0mregex\u001b[0m\u001b[1;33m\u001b[0m\u001b[1;33m\u001b[0m\u001b[0m\n",
      "\u001b[1;31mModuleNotFoundError\u001b[0m: No module named 'plotly'"
     ]
    }
   ],
   "source": [
    "import plotly.graph_objs as go\n",
    "import pandas as pd\n",
    "import re\n",
    "import sys\n",
    "import regex\n",
    "import emoji\n",
    "import json\n",
    "import os\n",
    "import numpy as np\n",
    "from collections import Counter\n",
    "import plotly.io as pio\n",
    "import plotly.express as px\n",
    "import matplotlib.pyplot as plt\n",
    "from wordcloud import WordCloud, STOPWORDS\n",
    "from datetime import datetime"
   ]
  },
  {
   "cell_type": "markdown",
   "metadata": {
    "id": "ltYtUitmPrdD"
   },
   "source": [
    "### Paso 1: Definir funciones necesarias"
   ]
  },
  {
   "cell_type": "code",
   "execution_count": null,
   "metadata": {},
   "outputs": [],
   "source": [
    "# Obtener los patrones de los números telefónicos de países\n",
    "phone_patterns = [line.strip().split(';')[1] + \":\" for line in open('Data/phone_patterns.txt', 'r')]\n",
    "print(phone_patterns)"
   ]
  },
  {
   "cell_type": "code",
   "execution_count": 5,
   "metadata": {
    "id": "-W4h4YmcyhIy"
   },
   "outputs": [],
   "source": [
    "# Patron regex para identificar el comienzo de cada línea del txt con la fecha y la hora\n",
    "def IniciaConFechaYHora(s):\n",
    "    # Ejemplo: '9/16/23, 5:59 PM - ...'\n",
    "    patron = r'^(\\d{1,2})\\/(\\d{1,2})\\/(\\d{4}),\\s*(\\d{1,2}):(\\d{2})\\s*(a\\.?\\s*m\\.?|p\\.?\\s*m\\.?)\\s*-'\n",
    "    resultado = re.match(patron, s)  # Verificar si cada línea del txt hace match con el patrón de fecha y hora\n",
    "    if resultado:\n",
    "        return True\n",
    "    return False\n",
    "\n",
    "# Patrón para encontrar a los miembros del grupo dentro del txt\n",
    "def EncontrarMiembro(s):\n",
    "    patrones = [\n",
    "        '([\\w]+):',                                # Nombre\n",
    "        '([\\w]+[\\s]+[\\w]+):',                      # Nombre + Apellido\n",
    "        '([\\w]+[\\s]+[\\w]+[\\s]+[\\w]+):',            # Nombre 1 + Nombre 2 + Apellido\n",
    "        '([\\w]+[\\s]+[\\w]+[\\s]+[\\w]+[\\s]+[\\w]+):',  # Nombre 1 + Nombre 2+ Nombre 3 + Apellido\n",
    "        '([\\w]+[\\s])[\\u263a-\\U0001f999]+:',        # Nombre + Emoji\n",
    "    ]\n",
    "    patrones+=phone_patterns # Se añade los patrones de los números telefónicos\n",
    "\n",
    "    patron = '^' + '|'.join(patrones)\n",
    "    resultado = re.match(patron, s)  # Verificar si cada línea del txt hace match con el patrón de miembro\n",
    "    if resultado:\n",
    "        return True\n",
    "    return False\n",
    "\n",
    "# Separar las partes de cada línea del txt: Fecha, Hora, Miembro y Mensaje\n",
    "def ObtenerPartes(linea):\n",
    "    # Ejemplo: '9/16/23, 5:59 PM - Sandreke: Todos debemos aprender a analizar datos'\n",
    "    splitLinea = linea.split(' - ')\n",
    "    FechaHora = splitLinea[0]                     # '9/16/23, 5:59 PM'\n",
    "    splitFechaHora = FechaHora.split(', ')\n",
    "    Fecha = splitFechaHora[0]                    # '9/16/23'\n",
    "    Hora = ' '.join(splitFechaHora[1:])          # '5:59 PM'\n",
    "    Mensaje = ' '.join(splitLinea[1:])             # 'Sandreke: Todos debemos aprender a analizar datos'\n",
    "    if EncontrarMiembro(Mensaje):\n",
    "        splitMensaje = Mensaje.split(': ')\n",
    "        Miembro = splitMensaje[0]               # 'Sandreke'\n",
    "        Mensaje = ' '.join(splitMensaje[1:])    # 'Todos debemos aprender a analizar datos'\n",
    "    else:\n",
    "        Miembro = None       \n",
    "    return Fecha, Hora, Miembro, Mensaje"
   ]
  },
  {
   "cell_type": "markdown",
   "metadata": {
    "id": "my-NE9PBQFzD"
   },
   "source": [
    "### Paso 2: Obtener el dataframe usando el archivo txt y las funciones definidas"
   ]
  },
  {
   "cell_type": "code",
   "execution_count": 6,
   "metadata": {
    "colab": {
     "base_uri": "https://localhost:8080/",
     "height": 423
    },
    "id": "JJ14iuRcrlyc",
    "outputId": "ba9a516c-ea03-49cd-bcb1-14efd9760e11"
   },
   "outputs": [
    {
     "ename": "NameError",
     "evalue": "name 're' is not defined",
     "output_type": "error",
     "traceback": [
      "\u001b[1;31m---------------------------------------------------------------------------\u001b[0m",
      "\u001b[1;31mNameError\u001b[0m                                 Traceback (most recent call last)",
      "\u001b[1;32m<ipython-input-6-19bc5f9d46b4>\u001b[0m in \u001b[0;36m<module>\u001b[1;34m\u001b[0m\n\u001b[0;32m     11\u001b[0m             \u001b[1;32mbreak\u001b[0m\u001b[1;33m\u001b[0m\u001b[1;33m\u001b[0m\u001b[0m\n\u001b[0;32m     12\u001b[0m         \u001b[0mlinea\u001b[0m \u001b[1;33m=\u001b[0m \u001b[0mlinea\u001b[0m\u001b[1;33m.\u001b[0m\u001b[0mstrip\u001b[0m\u001b[1;33m(\u001b[0m\u001b[1;33m)\u001b[0m\u001b[1;33m\u001b[0m\u001b[1;33m\u001b[0m\u001b[0m\n\u001b[1;32m---> 13\u001b[1;33m         \u001b[1;32mif\u001b[0m \u001b[0mIniciaConFechaYHora\u001b[0m\u001b[1;33m(\u001b[0m\u001b[0mlinea\u001b[0m\u001b[1;33m)\u001b[0m\u001b[1;33m:\u001b[0m\u001b[1;33m\u001b[0m\u001b[1;33m\u001b[0m\u001b[0m\n\u001b[0m\u001b[0;32m     14\u001b[0m             \u001b[1;31m# Si cada línea del txt coincide con el patrón fecha y hora\u001b[0m\u001b[1;33m\u001b[0m\u001b[1;33m\u001b[0m\u001b[1;33m\u001b[0m\u001b[0m\n\u001b[0;32m     15\u001b[0m             \u001b[0mFecha\u001b[0m\u001b[1;33m,\u001b[0m \u001b[0mHora\u001b[0m\u001b[1;33m,\u001b[0m \u001b[0mMiembro\u001b[0m\u001b[1;33m,\u001b[0m \u001b[0mMensaje\u001b[0m \u001b[1;33m=\u001b[0m \u001b[0mObtenerPartes\u001b[0m\u001b[1;33m(\u001b[0m\u001b[0mlinea\u001b[0m\u001b[1;33m)\u001b[0m \u001b[1;31m# Obtener datos de cada línea del txt\u001b[0m\u001b[1;33m\u001b[0m\u001b[1;33m\u001b[0m\u001b[0m\n",
      "\u001b[1;32m<ipython-input-5-e73bba1fd8c4>\u001b[0m in \u001b[0;36mIniciaConFechaYHora\u001b[1;34m(s)\u001b[0m\n\u001b[0;32m      3\u001b[0m     \u001b[1;31m# Ejemplo: '9/16/23, 5:59 PM - ...'\u001b[0m\u001b[1;33m\u001b[0m\u001b[1;33m\u001b[0m\u001b[1;33m\u001b[0m\u001b[0m\n\u001b[0;32m      4\u001b[0m     \u001b[0mpatron\u001b[0m \u001b[1;33m=\u001b[0m \u001b[1;34mr'^(\\d{1,2})\\/(\\d{1,2})\\/(\\d{4}),\\s*(\\d{1,2}):(\\d{2})\\s*(a\\.?\\s*m\\.?|p\\.?\\s*m\\.?)\\s*-'\u001b[0m\u001b[1;33m\u001b[0m\u001b[1;33m\u001b[0m\u001b[0m\n\u001b[1;32m----> 5\u001b[1;33m     \u001b[0mresultado\u001b[0m \u001b[1;33m=\u001b[0m \u001b[0mre\u001b[0m\u001b[1;33m.\u001b[0m\u001b[0mmatch\u001b[0m\u001b[1;33m(\u001b[0m\u001b[0mpatron\u001b[0m\u001b[1;33m,\u001b[0m \u001b[0ms\u001b[0m\u001b[1;33m)\u001b[0m  \u001b[1;31m# Verificar si cada línea del txt hace match con el patrón de fecha y hora\u001b[0m\u001b[1;33m\u001b[0m\u001b[1;33m\u001b[0m\u001b[0m\n\u001b[0m\u001b[0;32m      6\u001b[0m     \u001b[1;32mif\u001b[0m \u001b[0mresultado\u001b[0m\u001b[1;33m:\u001b[0m\u001b[1;33m\u001b[0m\u001b[1;33m\u001b[0m\u001b[0m\n\u001b[0;32m      7\u001b[0m         \u001b[1;32mreturn\u001b[0m \u001b[1;32mTrue\u001b[0m\u001b[1;33m\u001b[0m\u001b[1;33m\u001b[0m\u001b[0m\n",
      "\u001b[1;31mNameError\u001b[0m: name 're' is not defined"
     ]
    }
   ],
   "source": [
    "# Leer el archivo txt descargado del chat de WhatsApp\n",
    "RutaChat = 'Data/chatConBel.txt'\n",
    "# Lista para almacenar los datos (Fecha, Hora, Miembro, Mensaje) de cada línea del txt\n",
    "DatosLista = []\n",
    "with open(RutaChat, encoding=\"utf-8\") as fp:\n",
    "    fp.readline() # Eliminar primera fila relacionada al cifrado de extremo a extremo\n",
    "    Fecha, Hora, Miembro = None, None, None\n",
    "    while True:\n",
    "        linea = fp.readline()\n",
    "        if not linea:\n",
    "            break\n",
    "        linea = linea.strip()\n",
    "        if IniciaConFechaYHora(linea):\n",
    "            # Si cada línea del txt coincide con el patrón fecha y hora\n",
    "            Fecha, Hora, Miembro, Mensaje = ObtenerPartes(linea) # Obtener datos de cada línea del txt\n",
    "            DatosLista.append([Fecha, Hora, Miembro, Mensaje])\n",
    "# Convertir la lista con los datos a dataframe\n",
    "pd.set_option('display.max_columns', None)\n",
    "df = pd.DataFrame(DatosLista, columns=['Fecha', 'Hora', 'Miembro', 'Mensaje'])\n",
    "df = df.dropna()\n",
    "# Resetear el índice\n",
    "df.reset_index(drop=True, inplace=True)\n",
    "print(df['Hora'])"
   ]
  },
  {
   "cell_type": "markdown",
   "metadata": {},
   "source": [
    "#### Filtrar el chat por fecha de acuerdo a lo requerido"
   ]
  },
  {
   "cell_type": "code",
   "execution_count": 17,
   "metadata": {},
   "outputs": [
    {
     "name": "stdout",
     "output_type": "stream",
     "text": [
      "Empty DataFrame\n",
      "Columns: [Fecha, Hora, Miembro, Mensaje]\n",
      "Index: []\n"
     ]
    }
   ],
   "source": [
    "start_date = '2023-06-01'\n",
    "end_date = '2023-09-30'\n",
    "\n",
    "df = df[(df['Fecha'] >= start_date) & (df['Fecha'] <= end_date)]\n",
    "print(df)"
   ]
  },
  {
   "cell_type": "markdown",
   "metadata": {
    "id": "nHwN09vlwo4e"
   },
   "source": [
    "### Paso 3: Estadísticas de mensajes, multimedia, emojis y links"
   ]
  },
  {
   "cell_type": "markdown",
   "metadata": {
    "id": "k395vihvMcGE"
   },
   "source": [
    "#### Total de mensajes, multimedia, emojis y links enviados"
   ]
  },
  {
   "cell_type": "code",
   "execution_count": 5,
   "metadata": {
    "colab": {
     "base_uri": "https://localhost:8080/",
     "height": 206
    },
    "id": "2W3bTMofrtAz",
    "outputId": "7c25f98d-02be-494d-9c8c-9d35afe13a6f"
   },
   "outputs": [
    {
     "data": {
      "text/html": [
       "<div>\n",
       "<style scoped>\n",
       "    .dataframe tbody tr th:only-of-type {\n",
       "        vertical-align: middle;\n",
       "    }\n",
       "\n",
       "    .dataframe tbody tr th {\n",
       "        vertical-align: top;\n",
       "    }\n",
       "\n",
       "    .dataframe thead th {\n",
       "        text-align: right;\n",
       "    }\n",
       "</style>\n",
       "<table border=\"1\" class=\"dataframe\">\n",
       "  <thead>\n",
       "    <tr style=\"text-align: right;\">\n",
       "      <th></th>\n",
       "      <th>Cantidad</th>\n",
       "    </tr>\n",
       "    <tr>\n",
       "      <th>Tipo</th>\n",
       "      <th></th>\n",
       "    </tr>\n",
       "  </thead>\n",
       "  <tbody>\n",
       "    <tr>\n",
       "      <th>Mensajes</th>\n",
       "      <td>39998</td>\n",
       "    </tr>\n",
       "    <tr>\n",
       "      <th>Multimedia</th>\n",
       "      <td>0</td>\n",
       "    </tr>\n",
       "    <tr>\n",
       "      <th>Emojis</th>\n",
       "      <td>12841</td>\n",
       "    </tr>\n",
       "    <tr>\n",
       "      <th>Links</th>\n",
       "      <td>101</td>\n",
       "    </tr>\n",
       "    <tr>\n",
       "      <th>Encuestas</th>\n",
       "      <td>0</td>\n",
       "    </tr>\n",
       "  </tbody>\n",
       "</table>\n",
       "</div>"
      ],
      "text/plain": [
       "            Cantidad\n",
       "Tipo                \n",
       "Mensajes       39998\n",
       "Multimedia         0\n",
       "Emojis         12841\n",
       "Links            101\n",
       "Encuestas          0"
      ]
     },
     "execution_count": 5,
     "metadata": {},
     "output_type": "execute_result"
    }
   ],
   "source": [
    "def ObtenerEmojis(Mensaje):\n",
    "    emoji_lista = []\n",
    "    data = regex.findall(r'\\X', Mensaje) # Obtener lista de caracteres de cada mensaje\n",
    "    for caracter in data:\n",
    "        if caracter in emoji.EMOJI_DATA: # Obtener emojis en idioma español\n",
    "            emoji_lista.append(caracter)\n",
    "    return emoji_lista\n",
    "\n",
    "# Obtener la cantidad total de mensajes\n",
    "total_mensajes = df.shape[0]\n",
    "\n",
    "# Obtener la cantidad de archivos multimedia enviados\n",
    "multimedia_mensajes = df[df['Mensaje'] == '<Media omitted>'].shape[0]\n",
    "\n",
    "# Obtener la cantidad de emojis enviados\n",
    "df['Emojis'] = df['Mensaje'].apply(ObtenerEmojis) # Se agrega columna 'Emojis'\n",
    "emojis = sum(df['Emojis'].str.len())\n",
    "\n",
    "# Obtener la cantidad de links enviados\n",
    "url_patron = r'(https?://\\S+)'\n",
    "df['URLs'] = df.Mensaje.apply(lambda x: len(re.findall(url_patron, x))) # Se agrega columna 'URLs'\n",
    "links = sum(df['URLs'])\n",
    "\n",
    "# Obtener la cantidad de encuestas\n",
    "encuestas = df[df['Mensaje'] == 'POLL:'].shape[0]\n",
    "\n",
    "# Todos los datos pasarlo a diccionario\n",
    "estadistica_dict = {'Tipo': ['Mensajes', 'Multimedia', 'Emojis', 'Links', 'Encuestas'],\n",
    "        'Cantidad': [total_mensajes, multimedia_mensajes, emojis, links, encuestas]\n",
    "        }\n",
    "\n",
    "#Convertir diccionario a dataframe\n",
    "estadistica_df = pd.DataFrame(estadistica_dict, columns = ['Tipo', 'Cantidad'])\n",
    "\n",
    "# Establecer la columna Tipo como índice\n",
    "estadistica_df = estadistica_df.set_index('Tipo')\n",
    "estadistica_df"
   ]
  },
  {
   "cell_type": "markdown",
   "metadata": {
    "id": "qxSQjfnhMkaj"
   },
   "source": [
    "#### Emojis más usados"
   ]
  },
  {
   "cell_type": "code",
   "execution_count": 6,
   "metadata": {
    "colab": {
     "base_uri": "https://localhost:8080/",
     "height": 431
    },
    "id": "Dqmgb2I6HUg-",
    "outputId": "340c211d-3343-4cae-c031-d4f474f87056"
   },
   "outputs": [
    {
     "name": "stdout",
     "output_type": "stream",
     "text": [
      "Número emojis únicos usados:  87 \n",
      "\n"
     ]
    },
    {
     "data": {
      "text/html": [
       "<div>\n",
       "<style scoped>\n",
       "    .dataframe tbody tr th:only-of-type {\n",
       "        vertical-align: middle;\n",
       "    }\n",
       "\n",
       "    .dataframe tbody tr th {\n",
       "        vertical-align: top;\n",
       "    }\n",
       "\n",
       "    .dataframe thead th {\n",
       "        text-align: right;\n",
       "    }\n",
       "</style>\n",
       "<table border=\"1\" class=\"dataframe\">\n",
       "  <thead>\n",
       "    <tr style=\"text-align: right;\">\n",
       "      <th></th>\n",
       "      <th>Cantidad</th>\n",
       "    </tr>\n",
       "    <tr>\n",
       "      <th>Emoji</th>\n",
       "      <th></th>\n",
       "    </tr>\n",
       "  </thead>\n",
       "  <tbody>\n",
       "    <tr>\n",
       "      <th>❤️</th>\n",
       "      <td>5000</td>\n",
       "    </tr>\n",
       "    <tr>\n",
       "      <th>🥹</th>\n",
       "      <td>3477</td>\n",
       "    </tr>\n",
       "    <tr>\n",
       "      <th>🫂</th>\n",
       "      <td>1071</td>\n",
       "    </tr>\n",
       "    <tr>\n",
       "      <th>❤‍🩹</th>\n",
       "      <td>911</td>\n",
       "    </tr>\n",
       "    <tr>\n",
       "      <th>😆</th>\n",
       "      <td>447</td>\n",
       "    </tr>\n",
       "    <tr>\n",
       "      <th>😭</th>\n",
       "      <td>261</td>\n",
       "    </tr>\n",
       "    <tr>\n",
       "      <th>🫶🏻</th>\n",
       "      <td>217</td>\n",
       "    </tr>\n",
       "    <tr>\n",
       "      <th>🤤</th>\n",
       "      <td>188</td>\n",
       "    </tr>\n",
       "    <tr>\n",
       "      <th>🫠</th>\n",
       "      <td>186</td>\n",
       "    </tr>\n",
       "    <tr>\n",
       "      <th>😔</th>\n",
       "      <td>162</td>\n",
       "    </tr>\n",
       "  </tbody>\n",
       "</table>\n",
       "</div>"
      ],
      "text/plain": [
       "       Cantidad\n",
       "Emoji          \n",
       "❤️         5000\n",
       "🥹          3477\n",
       "🫂          1071\n",
       "❤‍🩹         911\n",
       "😆           447\n",
       "😭           261\n",
       "🫶🏻          217\n",
       "🤤           188\n",
       "🫠           186\n",
       "😔           162"
      ]
     },
     "execution_count": 6,
     "metadata": {},
     "output_type": "execute_result"
    }
   ],
   "source": [
    "# Obtener emojis más usados y las cantidades en el chat del grupo del dataframe\n",
    "emojis_lista = list([a for b in df.Emojis for a in b])\n",
    "emoji_diccionario = dict(Counter(emojis_lista))\n",
    "emoji_diccionario = sorted(emoji_diccionario.items(), key=lambda x: x[1], reverse=True)\n",
    "\n",
    "# Convertir el diccionario a dataframe\n",
    "emoji_df = pd.DataFrame(emoji_diccionario, columns=['Emoji', 'Cantidad'])\n",
    "\n",
    "# Establecer la columna Emoji como índice\n",
    "emoji_df = emoji_df.set_index('Emoji')\n",
    "\n",
    "print('Número emojis únicos usados: ', len(emoji_df), '\\n')\n",
    "emoji_df.head(10)"
   ]
  },
  {
   "cell_type": "code",
   "execution_count": 7,
   "metadata": {
    "colab": {
     "base_uri": "https://localhost:8080/",
     "height": 542
    },
    "id": "gUuZ7WIRGgVI",
    "outputId": "8c324573-9baf-4fb4-d712-4abcdeca8ce5"
   },
   "outputs": [
    {
     "data": {
      "application/vnd.plotly.v1+json": {
       "config": {
        "plotlyServerURL": "https://plot.ly"
       },
       "data": [
        {
         "domain": {
          "x": [
           0,
           1
          ],
          "y": [
           0,
           1
          ]
         },
         "hovertemplate": "Emoji=%{label}<br>Cantidad=%{value}<extra></extra>",
         "labels": [
          "❤️",
          "🥹",
          "🫂",
          "❤‍🩹",
          "😆",
          "😭",
          "🫶🏻",
          "🤤",
          "🫠",
          "😔",
          "🥵",
          "❣️",
          "😞",
          "🤧",
          "😍",
          "🥺",
          "🤔",
          "🥲",
          "😖",
          "😩",
          "❤️‍🩹",
          "😰",
          "🙂",
          "😂",
          "🙈",
          "☹️",
          "🤡",
          "🙏🏻",
          "🥰",
          "🤨",
          "😬",
          "😴",
          "👍🏻",
          "👍🏼",
          "✨",
          "🤣",
          "😨",
          "😕",
          "😑",
          "🛑",
          "🪶",
          "😢",
          "🫡",
          "💗",
          "🤞🏻",
          "⤴️",
          "👅",
          "🙌🏻",
          "💕",
          "😊",
          "😤",
          "💆🏻",
          "💫",
          "🦎",
          "☀️",
          "♾️",
          "😪",
          "👍",
          "😠",
          "❤",
          "😎",
          "🌻",
          "🥴",
          "🐺",
          "💓",
          "🤓",
          "🧐",
          "😮",
          "🔫",
          "💧",
          "💯",
          "🛏️",
          "✅",
          "❤️‍🔥",
          "📸",
          "🌷",
          "🙏",
          "🤭",
          "💣",
          "🐱",
          "⚖️",
          "💩",
          "😘",
          "😱",
          "🥐",
          "♥️",
          "🤰🏻"
         ],
         "legendgroup": "",
         "name": "",
         "showlegend": true,
         "textinfo": "percent+label",
         "textposition": "inside",
         "type": "pie",
         "values": [
          5000,
          3477,
          1071,
          911,
          447,
          261,
          217,
          188,
          186,
          162,
          134,
          104,
          99,
          75,
          50,
          44,
          35,
          33,
          30,
          25,
          23,
          23,
          19,
          18,
          17,
          15,
          13,
          11,
          10,
          9,
          8,
          7,
          7,
          7,
          6,
          5,
          5,
          5,
          4,
          4,
          4,
          3,
          3,
          3,
          3,
          3,
          3,
          3,
          3,
          2,
          2,
          2,
          2,
          2,
          2,
          2,
          2,
          2,
          2,
          1,
          1,
          1,
          1,
          1,
          1,
          1,
          1,
          1,
          1,
          1,
          1,
          1,
          1,
          1,
          1,
          1,
          1,
          1,
          1,
          1,
          1,
          1,
          1,
          1,
          1,
          1,
          1
         ]
        }
       ],
       "layout": {
        "legend": {
         "tracegroupgap": 0
        },
        "template": {
         "data": {
          "bar": [
           {
            "error_x": {
             "color": "#2a3f5f"
            },
            "error_y": {
             "color": "#2a3f5f"
            },
            "marker": {
             "line": {
              "color": "#E5ECF6",
              "width": 0.5
             },
             "pattern": {
              "fillmode": "overlay",
              "size": 10,
              "solidity": 0.2
             }
            },
            "type": "bar"
           }
          ],
          "barpolar": [
           {
            "marker": {
             "line": {
              "color": "#E5ECF6",
              "width": 0.5
             },
             "pattern": {
              "fillmode": "overlay",
              "size": 10,
              "solidity": 0.2
             }
            },
            "type": "barpolar"
           }
          ],
          "carpet": [
           {
            "aaxis": {
             "endlinecolor": "#2a3f5f",
             "gridcolor": "white",
             "linecolor": "white",
             "minorgridcolor": "white",
             "startlinecolor": "#2a3f5f"
            },
            "baxis": {
             "endlinecolor": "#2a3f5f",
             "gridcolor": "white",
             "linecolor": "white",
             "minorgridcolor": "white",
             "startlinecolor": "#2a3f5f"
            },
            "type": "carpet"
           }
          ],
          "choropleth": [
           {
            "colorbar": {
             "outlinewidth": 0,
             "ticks": ""
            },
            "type": "choropleth"
           }
          ],
          "contour": [
           {
            "colorbar": {
             "outlinewidth": 0,
             "ticks": ""
            },
            "colorscale": [
             [
              0,
              "#0d0887"
             ],
             [
              0.1111111111111111,
              "#46039f"
             ],
             [
              0.2222222222222222,
              "#7201a8"
             ],
             [
              0.3333333333333333,
              "#9c179e"
             ],
             [
              0.4444444444444444,
              "#bd3786"
             ],
             [
              0.5555555555555556,
              "#d8576b"
             ],
             [
              0.6666666666666666,
              "#ed7953"
             ],
             [
              0.7777777777777778,
              "#fb9f3a"
             ],
             [
              0.8888888888888888,
              "#fdca26"
             ],
             [
              1,
              "#f0f921"
             ]
            ],
            "type": "contour"
           }
          ],
          "contourcarpet": [
           {
            "colorbar": {
             "outlinewidth": 0,
             "ticks": ""
            },
            "type": "contourcarpet"
           }
          ],
          "heatmap": [
           {
            "colorbar": {
             "outlinewidth": 0,
             "ticks": ""
            },
            "colorscale": [
             [
              0,
              "#0d0887"
             ],
             [
              0.1111111111111111,
              "#46039f"
             ],
             [
              0.2222222222222222,
              "#7201a8"
             ],
             [
              0.3333333333333333,
              "#9c179e"
             ],
             [
              0.4444444444444444,
              "#bd3786"
             ],
             [
              0.5555555555555556,
              "#d8576b"
             ],
             [
              0.6666666666666666,
              "#ed7953"
             ],
             [
              0.7777777777777778,
              "#fb9f3a"
             ],
             [
              0.8888888888888888,
              "#fdca26"
             ],
             [
              1,
              "#f0f921"
             ]
            ],
            "type": "heatmap"
           }
          ],
          "heatmapgl": [
           {
            "colorbar": {
             "outlinewidth": 0,
             "ticks": ""
            },
            "colorscale": [
             [
              0,
              "#0d0887"
             ],
             [
              0.1111111111111111,
              "#46039f"
             ],
             [
              0.2222222222222222,
              "#7201a8"
             ],
             [
              0.3333333333333333,
              "#9c179e"
             ],
             [
              0.4444444444444444,
              "#bd3786"
             ],
             [
              0.5555555555555556,
              "#d8576b"
             ],
             [
              0.6666666666666666,
              "#ed7953"
             ],
             [
              0.7777777777777778,
              "#fb9f3a"
             ],
             [
              0.8888888888888888,
              "#fdca26"
             ],
             [
              1,
              "#f0f921"
             ]
            ],
            "type": "heatmapgl"
           }
          ],
          "histogram": [
           {
            "marker": {
             "pattern": {
              "fillmode": "overlay",
              "size": 10,
              "solidity": 0.2
             }
            },
            "type": "histogram"
           }
          ],
          "histogram2d": [
           {
            "colorbar": {
             "outlinewidth": 0,
             "ticks": ""
            },
            "colorscale": [
             [
              0,
              "#0d0887"
             ],
             [
              0.1111111111111111,
              "#46039f"
             ],
             [
              0.2222222222222222,
              "#7201a8"
             ],
             [
              0.3333333333333333,
              "#9c179e"
             ],
             [
              0.4444444444444444,
              "#bd3786"
             ],
             [
              0.5555555555555556,
              "#d8576b"
             ],
             [
              0.6666666666666666,
              "#ed7953"
             ],
             [
              0.7777777777777778,
              "#fb9f3a"
             ],
             [
              0.8888888888888888,
              "#fdca26"
             ],
             [
              1,
              "#f0f921"
             ]
            ],
            "type": "histogram2d"
           }
          ],
          "histogram2dcontour": [
           {
            "colorbar": {
             "outlinewidth": 0,
             "ticks": ""
            },
            "colorscale": [
             [
              0,
              "#0d0887"
             ],
             [
              0.1111111111111111,
              "#46039f"
             ],
             [
              0.2222222222222222,
              "#7201a8"
             ],
             [
              0.3333333333333333,
              "#9c179e"
             ],
             [
              0.4444444444444444,
              "#bd3786"
             ],
             [
              0.5555555555555556,
              "#d8576b"
             ],
             [
              0.6666666666666666,
              "#ed7953"
             ],
             [
              0.7777777777777778,
              "#fb9f3a"
             ],
             [
              0.8888888888888888,
              "#fdca26"
             ],
             [
              1,
              "#f0f921"
             ]
            ],
            "type": "histogram2dcontour"
           }
          ],
          "mesh3d": [
           {
            "colorbar": {
             "outlinewidth": 0,
             "ticks": ""
            },
            "type": "mesh3d"
           }
          ],
          "parcoords": [
           {
            "line": {
             "colorbar": {
              "outlinewidth": 0,
              "ticks": ""
             }
            },
            "type": "parcoords"
           }
          ],
          "pie": [
           {
            "automargin": true,
            "type": "pie"
           }
          ],
          "scatter": [
           {
            "fillpattern": {
             "fillmode": "overlay",
             "size": 10,
             "solidity": 0.2
            },
            "type": "scatter"
           }
          ],
          "scatter3d": [
           {
            "line": {
             "colorbar": {
              "outlinewidth": 0,
              "ticks": ""
             }
            },
            "marker": {
             "colorbar": {
              "outlinewidth": 0,
              "ticks": ""
             }
            },
            "type": "scatter3d"
           }
          ],
          "scattercarpet": [
           {
            "marker": {
             "colorbar": {
              "outlinewidth": 0,
              "ticks": ""
             }
            },
            "type": "scattercarpet"
           }
          ],
          "scattergeo": [
           {
            "marker": {
             "colorbar": {
              "outlinewidth": 0,
              "ticks": ""
             }
            },
            "type": "scattergeo"
           }
          ],
          "scattergl": [
           {
            "marker": {
             "colorbar": {
              "outlinewidth": 0,
              "ticks": ""
             }
            },
            "type": "scattergl"
           }
          ],
          "scattermapbox": [
           {
            "marker": {
             "colorbar": {
              "outlinewidth": 0,
              "ticks": ""
             }
            },
            "type": "scattermapbox"
           }
          ],
          "scatterpolar": [
           {
            "marker": {
             "colorbar": {
              "outlinewidth": 0,
              "ticks": ""
             }
            },
            "type": "scatterpolar"
           }
          ],
          "scatterpolargl": [
           {
            "marker": {
             "colorbar": {
              "outlinewidth": 0,
              "ticks": ""
             }
            },
            "type": "scatterpolargl"
           }
          ],
          "scatterternary": [
           {
            "marker": {
             "colorbar": {
              "outlinewidth": 0,
              "ticks": ""
             }
            },
            "type": "scatterternary"
           }
          ],
          "surface": [
           {
            "colorbar": {
             "outlinewidth": 0,
             "ticks": ""
            },
            "colorscale": [
             [
              0,
              "#0d0887"
             ],
             [
              0.1111111111111111,
              "#46039f"
             ],
             [
              0.2222222222222222,
              "#7201a8"
             ],
             [
              0.3333333333333333,
              "#9c179e"
             ],
             [
              0.4444444444444444,
              "#bd3786"
             ],
             [
              0.5555555555555556,
              "#d8576b"
             ],
             [
              0.6666666666666666,
              "#ed7953"
             ],
             [
              0.7777777777777778,
              "#fb9f3a"
             ],
             [
              0.8888888888888888,
              "#fdca26"
             ],
             [
              1,
              "#f0f921"
             ]
            ],
            "type": "surface"
           }
          ],
          "table": [
           {
            "cells": {
             "fill": {
              "color": "#EBF0F8"
             },
             "line": {
              "color": "white"
             }
            },
            "header": {
             "fill": {
              "color": "#C8D4E3"
             },
             "line": {
              "color": "white"
             }
            },
            "type": "table"
           }
          ]
         },
         "layout": {
          "annotationdefaults": {
           "arrowcolor": "#2a3f5f",
           "arrowhead": 0,
           "arrowwidth": 1
          },
          "autotypenumbers": "strict",
          "coloraxis": {
           "colorbar": {
            "outlinewidth": 0,
            "ticks": ""
           }
          },
          "colorscale": {
           "diverging": [
            [
             0,
             "#8e0152"
            ],
            [
             0.1,
             "#c51b7d"
            ],
            [
             0.2,
             "#de77ae"
            ],
            [
             0.3,
             "#f1b6da"
            ],
            [
             0.4,
             "#fde0ef"
            ],
            [
             0.5,
             "#f7f7f7"
            ],
            [
             0.6,
             "#e6f5d0"
            ],
            [
             0.7,
             "#b8e186"
            ],
            [
             0.8,
             "#7fbc41"
            ],
            [
             0.9,
             "#4d9221"
            ],
            [
             1,
             "#276419"
            ]
           ],
           "sequential": [
            [
             0,
             "#0d0887"
            ],
            [
             0.1111111111111111,
             "#46039f"
            ],
            [
             0.2222222222222222,
             "#7201a8"
            ],
            [
             0.3333333333333333,
             "#9c179e"
            ],
            [
             0.4444444444444444,
             "#bd3786"
            ],
            [
             0.5555555555555556,
             "#d8576b"
            ],
            [
             0.6666666666666666,
             "#ed7953"
            ],
            [
             0.7777777777777778,
             "#fb9f3a"
            ],
            [
             0.8888888888888888,
             "#fdca26"
            ],
            [
             1,
             "#f0f921"
            ]
           ],
           "sequentialminus": [
            [
             0,
             "#0d0887"
            ],
            [
             0.1111111111111111,
             "#46039f"
            ],
            [
             0.2222222222222222,
             "#7201a8"
            ],
            [
             0.3333333333333333,
             "#9c179e"
            ],
            [
             0.4444444444444444,
             "#bd3786"
            ],
            [
             0.5555555555555556,
             "#d8576b"
            ],
            [
             0.6666666666666666,
             "#ed7953"
            ],
            [
             0.7777777777777778,
             "#fb9f3a"
            ],
            [
             0.8888888888888888,
             "#fdca26"
            ],
            [
             1,
             "#f0f921"
            ]
           ]
          },
          "colorway": [
           "#636efa",
           "#EF553B",
           "#00cc96",
           "#ab63fa",
           "#FFA15A",
           "#19d3f3",
           "#FF6692",
           "#B6E880",
           "#FF97FF",
           "#FECB52"
          ],
          "font": {
           "color": "#2a3f5f"
          },
          "geo": {
           "bgcolor": "white",
           "lakecolor": "white",
           "landcolor": "#E5ECF6",
           "showlakes": true,
           "showland": true,
           "subunitcolor": "white"
          },
          "hoverlabel": {
           "align": "left"
          },
          "hovermode": "closest",
          "mapbox": {
           "style": "light"
          },
          "paper_bgcolor": "white",
          "plot_bgcolor": "#E5ECF6",
          "polar": {
           "angularaxis": {
            "gridcolor": "white",
            "linecolor": "white",
            "ticks": ""
           },
           "bgcolor": "#E5ECF6",
           "radialaxis": {
            "gridcolor": "white",
            "linecolor": "white",
            "ticks": ""
           }
          },
          "scene": {
           "xaxis": {
            "backgroundcolor": "#E5ECF6",
            "gridcolor": "white",
            "gridwidth": 2,
            "linecolor": "white",
            "showbackground": true,
            "ticks": "",
            "zerolinecolor": "white"
           },
           "yaxis": {
            "backgroundcolor": "#E5ECF6",
            "gridcolor": "white",
            "gridwidth": 2,
            "linecolor": "white",
            "showbackground": true,
            "ticks": "",
            "zerolinecolor": "white"
           },
           "zaxis": {
            "backgroundcolor": "#E5ECF6",
            "gridcolor": "white",
            "gridwidth": 2,
            "linecolor": "white",
            "showbackground": true,
            "ticks": "",
            "zerolinecolor": "white"
           }
          },
          "shapedefaults": {
           "line": {
            "color": "#2a3f5f"
           }
          },
          "ternary": {
           "aaxis": {
            "gridcolor": "white",
            "linecolor": "white",
            "ticks": ""
           },
           "baxis": {
            "gridcolor": "white",
            "linecolor": "white",
            "ticks": ""
           },
           "bgcolor": "#E5ECF6",
           "caxis": {
            "gridcolor": "white",
            "linecolor": "white",
            "ticks": ""
           }
          },
          "title": {
           "x": 0.05
          },
          "xaxis": {
           "automargin": true,
           "gridcolor": "white",
           "linecolor": "white",
           "ticks": "",
           "title": {
            "standoff": 15
           },
           "zerolinecolor": "white",
           "zerolinewidth": 2
          },
          "yaxis": {
           "automargin": true,
           "gridcolor": "white",
           "linecolor": "white",
           "ticks": "",
           "title": {
            "standoff": 15
           },
           "zerolinecolor": "white",
           "zerolinewidth": 2
          }
         }
        },
        "title": {
         "text": "Pie de emojis"
        }
       }
      }
     },
     "metadata": {},
     "output_type": "display_data"
    }
   ],
   "source": [
    "# Plotear el pie de los emojis más usados\n",
    "fig = px.pie(emoji_df, values='Cantidad', names=emoji_df.index, title='Pie de emojis')\n",
    "fig.update_traces(textposition='inside', textinfo='percent+label')\n",
    "fig.show()"
   ]
  },
  {
   "cell_type": "markdown",
   "metadata": {
    "id": "C4FJPwZiQrbU"
   },
   "source": [
    "### Paso 4: Estadísticas de los miembros del grupo"
   ]
  },
  {
   "cell_type": "markdown",
   "metadata": {
    "id": "0FjFf3odQfrw"
   },
   "source": [
    "#### Miembros más activos"
   ]
  },
  {
   "cell_type": "code",
   "execution_count": 9,
   "metadata": {
    "colab": {
     "base_uri": "https://localhost:8080/",
     "height": 423
    },
    "id": "h5k2OxQzB3Te",
    "outputId": "1feeeb15-c669-4d5d-ca33-34c2a7844bc2"
   },
   "outputs": [
    {
     "data": {
      "text/html": [
       "<div>\n",
       "<style scoped>\n",
       "    .dataframe tbody tr th:only-of-type {\n",
       "        vertical-align: middle;\n",
       "    }\n",
       "\n",
       "    .dataframe tbody tr th {\n",
       "        vertical-align: top;\n",
       "    }\n",
       "\n",
       "    .dataframe thead th {\n",
       "        text-align: right;\n",
       "    }\n",
       "</style>\n",
       "<table border=\"1\" class=\"dataframe\">\n",
       "  <thead>\n",
       "    <tr style=\"text-align: right;\">\n",
       "      <th></th>\n",
       "      <th>Miembro</th>\n",
       "      <th>Mensaje</th>\n",
       "    </tr>\n",
       "  </thead>\n",
       "  <tbody>\n",
       "    <tr>\n",
       "      <th>1</th>\n",
       "      <td>Jose</td>\n",
       "      <td>20231</td>\n",
       "    </tr>\n",
       "    <tr>\n",
       "      <th>2</th>\n",
       "      <td>Bel</td>\n",
       "      <td>19767</td>\n",
       "    </tr>\n",
       "  </tbody>\n",
       "</table>\n",
       "</div>"
      ],
      "text/plain": [
       "  Miembro  Mensaje\n",
       "1    Jose    20231\n",
       "2     Bel    19767"
      ]
     },
     "execution_count": 9,
     "metadata": {},
     "output_type": "execute_result"
    }
   ],
   "source": [
    "# Determinar los miembros más activos del grupo\n",
    "df_MiembrosActivos = df.groupby('Miembro')['Mensaje'].count().sort_values(ascending=False).to_frame()\n",
    "df_MiembrosActivos.reset_index(inplace=True)\n",
    "df_MiembrosActivos.index = np.arange(1, len(df_MiembrosActivos)+1)\n",
    "df_MiembrosActivos"
   ]
  },
  {
   "cell_type": "markdown",
   "metadata": {
    "id": "B7cpLqJ3P1v6"
   },
   "source": [
    "#### Estadísticas por miembro"
   ]
  },
  {
   "cell_type": "code",
   "execution_count": 10,
   "metadata": {
    "colab": {
     "base_uri": "https://localhost:8080/",
     "height": 206
    },
    "id": "181xu9goQaAr",
    "outputId": "5499f938-540b-4978-a5fb-d10a8192d5e6"
   },
   "outputs": [
    {
     "data": {
      "text/html": [
       "<div>\n",
       "<style scoped>\n",
       "    .dataframe tbody tr th:only-of-type {\n",
       "        vertical-align: middle;\n",
       "    }\n",
       "\n",
       "    .dataframe tbody tr th {\n",
       "        vertical-align: top;\n",
       "    }\n",
       "\n",
       "    .dataframe thead th {\n",
       "        text-align: right;\n",
       "    }\n",
       "</style>\n",
       "<table border=\"1\" class=\"dataframe\">\n",
       "  <thead>\n",
       "    <tr style=\"text-align: right;\">\n",
       "      <th></th>\n",
       "      <th>Fecha</th>\n",
       "      <th>Hora</th>\n",
       "      <th>Miembro</th>\n",
       "      <th>Mensaje</th>\n",
       "      <th>Emojis</th>\n",
       "      <th>URLs</th>\n",
       "      <th>Letras</th>\n",
       "      <th>Palabras</th>\n",
       "    </tr>\n",
       "  </thead>\n",
       "  <tbody>\n",
       "    <tr>\n",
       "      <th>39993</th>\n",
       "      <td>14/2/2024</td>\n",
       "      <td>10:56 a. m.</td>\n",
       "      <td>Bel</td>\n",
       "      <td>ya hable con el otro</td>\n",
       "      <td>[]</td>\n",
       "      <td>0</td>\n",
       "      <td>20</td>\n",
       "      <td>5</td>\n",
       "    </tr>\n",
       "    <tr>\n",
       "      <th>39994</th>\n",
       "      <td>14/2/2024</td>\n",
       "      <td>10:56 a. m.</td>\n",
       "      <td>Bel</td>\n",
       "      <td>doc</td>\n",
       "      <td>[]</td>\n",
       "      <td>0</td>\n",
       "      <td>3</td>\n",
       "      <td>1</td>\n",
       "    </tr>\n",
       "    <tr>\n",
       "      <th>39995</th>\n",
       "      <td>14/2/2024</td>\n",
       "      <td>10:56 a. m.</td>\n",
       "      <td>Bel</td>\n",
       "      <td>ahora te cuento q me dijo amor</td>\n",
       "      <td>[]</td>\n",
       "      <td>0</td>\n",
       "      <td>30</td>\n",
       "      <td>7</td>\n",
       "    </tr>\n",
       "    <tr>\n",
       "      <th>39996</th>\n",
       "      <td>14/2/2024</td>\n",
       "      <td>11:08 a. m.</td>\n",
       "      <td>Jose</td>\n",
       "      <td>Está bien amor mío</td>\n",
       "      <td>[]</td>\n",
       "      <td>0</td>\n",
       "      <td>18</td>\n",
       "      <td>4</td>\n",
       "    </tr>\n",
       "    <tr>\n",
       "      <th>39997</th>\n",
       "      <td>14/2/2024</td>\n",
       "      <td>11:08 a. m.</td>\n",
       "      <td>Jose</td>\n",
       "      <td>Te amo ❤️🫂</td>\n",
       "      <td>[❤️, 🫂]</td>\n",
       "      <td>0</td>\n",
       "      <td>10</td>\n",
       "      <td>3</td>\n",
       "    </tr>\n",
       "  </tbody>\n",
       "</table>\n",
       "</div>"
      ],
      "text/plain": [
       "           Fecha         Hora Miembro                         Mensaje  \\\n",
       "39993  14/2/2024  10:56 a. m.     Bel            ya hable con el otro   \n",
       "39994  14/2/2024  10:56 a. m.     Bel                             doc   \n",
       "39995  14/2/2024  10:56 a. m.     Bel  ahora te cuento q me dijo amor   \n",
       "39996  14/2/2024  11:08 a. m.    Jose              Está bien amor mío   \n",
       "39997  14/2/2024  11:08 a. m.    Jose                      Te amo ❤️🫂   \n",
       "\n",
       "        Emojis  URLs  Letras  Palabras  \n",
       "39993       []     0      20         5  \n",
       "39994       []     0       3         1  \n",
       "39995       []     0      30         7  \n",
       "39996       []     0      18         4  \n",
       "39997  [❤️, 🫂]     0      10         3  "
      ]
     },
     "execution_count": 10,
     "metadata": {},
     "output_type": "execute_result"
    }
   ],
   "source": [
    "# Separar mensajes (sin multimedia) y multimedia (stickers, fotos, videos)\n",
    "multimedia_df = df[df['Mensaje'] == '<Media omitted>']\n",
    "mensajes_df = df.drop(multimedia_df.index)\n",
    "\n",
    "# Contar la cantidad de palabras y letras por mensaje\n",
    "mensajes_df['Letras'] = mensajes_df['Mensaje'].apply(lambda s : len(s))\n",
    "mensajes_df['Palabras'] = mensajes_df['Mensaje'].apply(lambda s : len(s.split(' ')))\n",
    "mensajes_df.tail()"
   ]
  },
  {
   "cell_type": "code",
   "execution_count": 11,
   "metadata": {
    "colab": {
     "base_uri": "https://localhost:8080/"
    },
    "id": "wCOeAzCONsT1",
    "outputId": "45b6bc5e-bac7-4d43-e6af-8d6d9b3ce149"
   },
   "outputs": [
    {
     "name": "stdout",
     "output_type": "stream",
     "text": [
      "{'Bel': [19767, 4.139323114281378, 0, 5905, 51], 'Jose': [20231, 4.881221887202807, 0, 6936, 50]}\n"
     ]
    }
   ],
   "source": [
    "# Obtener a todos los miembros\n",
    "miembros = mensajes_df.Miembro.unique()\n",
    "\n",
    "# Crear diccionario donde se almacenará todos los datos\n",
    "dictionario = {}\n",
    "\n",
    "for i in range(len(miembros)):\n",
    "    lista = []\n",
    "    # Filtrar mensajes de un miembro en específico\n",
    "    miembro_df= mensajes_df[mensajes_df['Miembro'] == miembros[i]]\n",
    "\n",
    "    # Agregar a la lista el número total de mensajes enviados\n",
    "    lista.append(miembro_df.shape[0])\n",
    "    \n",
    "    # Agregar a la lista el número de palabras por total de mensajes (palabras por mensaje)\n",
    "    palabras_por_msj = (np.sum(miembro_df['Palabras']))/miembro_df.shape[0]\n",
    "    lista.append(palabras_por_msj)\n",
    "\n",
    "    # Agregar a la lista el número de mensajes multimedia enviados\n",
    "    multimedia = multimedia_df[multimedia_df['Miembro'] == miembros[i]].shape[0]\n",
    "    lista.append(multimedia)\n",
    "\n",
    "    # Agregar a la lista el número total de emojis enviados\n",
    "    emojis = sum(miembro_df['Emojis'].str.len())\n",
    "    lista.append(emojis)\n",
    "\n",
    "    # Agregar a la lista el número total de links enviados\n",
    "    links = sum(miembro_df['URLs'])\n",
    "    lista.append(links)\n",
    "\n",
    "    # Asignar la lista como valor a la llave del diccionario\n",
    "    dictionario[miembros[i]] = lista\n",
    "    \n",
    "print(dictionario)"
   ]
  },
  {
   "cell_type": "code",
   "execution_count": 13,
   "metadata": {
    "colab": {
     "base_uri": "https://localhost:8080/",
     "height": 990
    },
    "id": "_1J2L5te3cqv",
    "outputId": "251af9ee-9e02-4ff6-ab3a-86e2a3047773"
   },
   "outputs": [
    {
     "data": {
      "text/html": [
       "<div>\n",
       "<style scoped>\n",
       "    .dataframe tbody tr th:only-of-type {\n",
       "        vertical-align: middle;\n",
       "    }\n",
       "\n",
       "    .dataframe tbody tr th {\n",
       "        vertical-align: top;\n",
       "    }\n",
       "\n",
       "    .dataframe thead th {\n",
       "        text-align: right;\n",
       "    }\n",
       "</style>\n",
       "<table border=\"1\" class=\"dataframe\">\n",
       "  <thead>\n",
       "    <tr style=\"text-align: right;\">\n",
       "      <th>Estadísticas</th>\n",
       "      <th>Mensajes</th>\n",
       "      <th>Palabras por mensaje</th>\n",
       "      <th>Multimedia</th>\n",
       "      <th>Emojis</th>\n",
       "      <th>Links</th>\n",
       "    </tr>\n",
       "  </thead>\n",
       "  <tbody>\n",
       "    <tr>\n",
       "      <th>Jose</th>\n",
       "      <td>20231</td>\n",
       "      <td>4.881222</td>\n",
       "      <td>0</td>\n",
       "      <td>6936</td>\n",
       "      <td>50</td>\n",
       "    </tr>\n",
       "    <tr>\n",
       "      <th>Bel</th>\n",
       "      <td>19767</td>\n",
       "      <td>4.139323</td>\n",
       "      <td>0</td>\n",
       "      <td>5905</td>\n",
       "      <td>51</td>\n",
       "    </tr>\n",
       "  </tbody>\n",
       "</table>\n",
       "</div>"
      ],
      "text/plain": [
       "Estadísticas  Mensajes  Palabras por mensaje  Multimedia  Emojis  Links\n",
       "Jose             20231              4.881222           0    6936     50\n",
       "Bel              19767              4.139323           0    5905     51"
      ]
     },
     "execution_count": 13,
     "metadata": {},
     "output_type": "execute_result"
    }
   ],
   "source": [
    "# Convertir de diccionario a dataframe\n",
    "miembro_stats_df = pd.DataFrame.from_dict(dictionario)\n",
    "\n",
    "# Cambiar el índice por la columna agregada 'Estadísticas'\n",
    "estadísticas = ['Mensajes', 'Palabras por mensaje', 'Multimedia', 'Emojis', 'Links']\n",
    "miembro_stats_df['Estadísticas'] = estadísticas\n",
    "miembro_stats_df.set_index('Estadísticas', inplace=True)\n",
    "\n",
    "# Transponer el dataframe\n",
    "miembro_stats_df = miembro_stats_df.T\n",
    "\n",
    "#Convertir a integer las columnas Mensajes, Multimedia Emojis y Links\n",
    "miembro_stats_df['Mensajes'] = miembro_stats_df['Mensajes'].apply(int)\n",
    "miembro_stats_df['Multimedia'] = miembro_stats_df['Multimedia'].apply(int)\n",
    "miembro_stats_df['Emojis'] = miembro_stats_df['Emojis'].apply(int)\n",
    "miembro_stats_df['Links'] = miembro_stats_df['Links'].apply(int)\n",
    "miembro_stats_df.sort_values(by=['Mensajes'], ascending=False)"
   ]
  },
  {
   "cell_type": "code",
   "execution_count": 39,
   "metadata": {},
   "outputs": [
    {
     "name": "stdout",
     "output_type": "stream",
     "text": [
      "            Fecha         Hora Miembro  \\\n",
      "0      11/11/2023   1:21 p. m.     Bel   \n",
      "1      11/11/2023   1:21 p. m.    Jose   \n",
      "2      11/11/2023   1:21 p. m.    Jose   \n",
      "3      11/11/2023   1:21 p. m.    Jose   \n",
      "4      11/11/2023   1:21 p. m.    Jose   \n",
      "...           ...          ...     ...   \n",
      "39993   14/2/2024  10:56 a. m.     Bel   \n",
      "39994   14/2/2024  10:56 a. m.     Bel   \n",
      "39995   14/2/2024  10:56 a. m.     Bel   \n",
      "39996   14/2/2024  11:08 a. m.    Jose   \n",
      "39997   14/2/2024  11:08 a. m.    Jose   \n",
      "\n",
      "                                                 Mensaje   Emojis  URLs  \\\n",
      "0      Decía que no me bota un resumen como tal solo ...       []     0   \n",
      "1                                               Claro tú       []     0   \n",
      "2                                                  Dilee       []     0   \n",
      "3                            Por favor hazme un resumend       []     0   \n",
      "4                                Y te los va a dar corto       []     0   \n",
      "...                                                  ...      ...   ...   \n",
      "39993                               ya hable con el otro       []     0   \n",
      "39994                                                doc       []     0   \n",
      "39995                     ahora te cuento q me dijo amor       []     0   \n",
      "39996                                 Está bien amor mío       []     0   \n",
      "39997                                         Te amo ❤️🫂  [❤️, 🫂]     0   \n",
      "\n",
      "      HoraParseada  rangoHora  # Mensajes por hora  # Mensajes por día  \\\n",
      "0            13:21  13 - 14 h                    1                   1   \n",
      "1            13:21  13 - 14 h                    1                   1   \n",
      "2            13:21  13 - 14 h                    1                   1   \n",
      "3            13:21  13 - 14 h                    1                   1   \n",
      "4            13:21  13 - 14 h                    1                   1   \n",
      "...            ...        ...                  ...                 ...   \n",
      "39993        10:56  10 - 11 h                    1                   1   \n",
      "39994        10:56  10 - 11 h                    1                   1   \n",
      "39995        10:56  10 - 11 h                    1                   1   \n",
      "39996        11:08  11 - 12 h                    1                   1   \n",
      "39997        11:08  11 - 12 h                    1                   1   \n",
      "\n",
      "       # Mensajes en esta hora  \n",
      "0                            1  \n",
      "1                            1  \n",
      "2                            1  \n",
      "3                            1  \n",
      "4                            1  \n",
      "...                        ...  \n",
      "39993                        1  \n",
      "39994                        1  \n",
      "39995                        1  \n",
      "39996                        1  \n",
      "39997                        1  \n",
      "\n",
      "[39998 rows x 11 columns]\n"
     ]
    }
   ],
   "source": [
    "print(df)"
   ]
  },
  {
   "cell_type": "markdown",
   "metadata": {
    "id": "V1rlmnZ6_TlY"
   },
   "source": [
    "### Paso 5: Estadísticas del comportamiento del grupo"
   ]
  },
  {
   "cell_type": "code",
   "execution_count": 59,
   "metadata": {},
   "outputs": [
    {
     "name": "stdout",
     "output_type": "stream",
     "text": [
      "0       1900-01-01 13:21:00\n",
      "1       1900-01-01 13:21:00\n",
      "2       1900-01-01 13:21:00\n",
      "3       1900-01-01 13:21:00\n",
      "4       1900-01-01 13:21:00\n",
      "                ...        \n",
      "39993   1900-01-01 10:56:00\n",
      "39994   1900-01-01 10:56:00\n",
      "39995   1900-01-01 10:56:00\n",
      "39996   1900-01-01 11:08:00\n",
      "39997   1900-01-01 11:08:00\n",
      "Name: HoraParseadaRango, Length: 39998, dtype: datetime64[ns]\n",
      "0        13:21\n",
      "1        13:21\n",
      "2        13:21\n",
      "3        13:21\n",
      "4        13:21\n",
      "         ...  \n",
      "39993    10:56\n",
      "39994    10:56\n",
      "39995    10:56\n",
      "39996    11:08\n",
      "39997    11:08\n",
      "Name: HoraParseada, Length: 39998, dtype: object\n",
      "0        13 - 14 h\n",
      "1        13 - 14 h\n",
      "2        13 - 14 h\n",
      "3        13 - 14 h\n",
      "4        13 - 14 h\n",
      "           ...    \n",
      "39993    10 - 11 h\n",
      "39994    10 - 11 h\n",
      "39995    10 - 11 h\n",
      "39996    11 - 12 h\n",
      "39997    11 - 12 h\n",
      "Name: rangoHora, Length: 39998, dtype: object\n"
     ]
    }
   ],
   "source": [
    "# Function to replace narrow non-breaking spaces and parse the time\n",
    "def preprocess_time(time_str):\n",
    "    # Further clean up the string by removing additional spaces around 'a.' and 'p.'\n",
    "    time_str = time_str.replace('\\u202F', ' ')\n",
    "    time_str = time_str.replace('a. m.', 'AM').replace('p. m.', 'PM')\n",
    "    # Parse the time string into a datetime object\n",
    "    return datetime.strptime(time_str, \"%I:%M %p\")\n",
    "\n",
    "\n",
    "df['HoraParseadaRango'] = df['Hora'].apply(preprocess_time)\n",
    "df['HoraParseada'] = df['HoraParseadaRango'].dt.strftime('%H:%M')\n",
    "print(df['HoraParseadaRango'])\n",
    "print(df['HoraParseada'])\n",
    "#df['rangoHora'] = pd.to_datetime(df['HoraParseadaRango'], format='%I:%M %p')# Define a function to create the \"Range Hour\" column\n",
    "def create_range_hour(hour):\n",
    "    start_hour = hour.hour\n",
    "    end_hour = (hour + pd.Timedelta(hours=1)).hour\n",
    "    return f'{start_hour:02d} - {end_hour:02d} h'\n",
    "\n",
    "# # # Apply the function to create the \"Range Hour\" column\n",
    "df['rangoHora'] = df['HoraParseadaRango'].apply(lambda x: f'{x.hour:02d} - {(x + pd.Timedelta(hours=1)).hour:02d} h')\n",
    "print(df['rangoHora'])"
   ]
  },
  {
   "cell_type": "code",
   "execution_count": 60,
   "metadata": {},
   "outputs": [
    {
     "data": {
      "application/vnd.plotly.v1+json": {
       "config": {
        "plotlyServerURL": "https://plot.ly"
       },
       "data": [
        {
         "hovertemplate": "rangoHora=%{x}<br># Mensajes por rango de hora=%{y}<extra></extra>",
         "legendgroup": "",
         "line": {
          "color": "#636efa",
          "dash": "solid"
         },
         "marker": {
          "symbol": "circle"
         },
         "mode": "lines",
         "name": "",
         "orientation": "v",
         "showlegend": false,
         "type": "scatter",
         "x": [
          "00 - 01 h",
          "01 - 02 h",
          "02 - 03 h",
          "03 - 04 h",
          "04 - 05 h",
          "05 - 06 h",
          "06 - 07 h",
          "07 - 08 h",
          "08 - 09 h",
          "09 - 10 h",
          "10 - 11 h",
          "11 - 12 h",
          "12 - 13 h",
          "13 - 14 h",
          "14 - 15 h",
          "15 - 16 h",
          "16 - 17 h",
          "17 - 18 h",
          "18 - 19 h",
          "19 - 20 h",
          "20 - 21 h",
          "21 - 22 h",
          "22 - 23 h",
          "23 - 00 h"
         ],
         "xaxis": "x",
         "y": [
          3482,
          3129,
          1930,
          309,
          70,
          68,
          42,
          405,
          810,
          1168,
          1702,
          2097,
          2283,
          2786,
          2492,
          2631,
          2094,
          1660,
          1592,
          2173,
          1624,
          2290,
          1488,
          1673
         ],
         "yaxis": "y"
        }
       ],
       "layout": {
        "font": {
         "size": 12
        },
        "legend": {
         "tracegroupgap": 0
        },
        "margin": {
         "t": 60
        },
        "template": {
         "data": {
          "bar": [
           {
            "error_x": {
             "color": "#2a3f5f"
            },
            "error_y": {
             "color": "#2a3f5f"
            },
            "marker": {
             "line": {
              "color": "#E5ECF6",
              "width": 0.5
             },
             "pattern": {
              "fillmode": "overlay",
              "size": 10,
              "solidity": 0.2
             }
            },
            "type": "bar"
           }
          ],
          "barpolar": [
           {
            "marker": {
             "line": {
              "color": "#E5ECF6",
              "width": 0.5
             },
             "pattern": {
              "fillmode": "overlay",
              "size": 10,
              "solidity": 0.2
             }
            },
            "type": "barpolar"
           }
          ],
          "carpet": [
           {
            "aaxis": {
             "endlinecolor": "#2a3f5f",
             "gridcolor": "white",
             "linecolor": "white",
             "minorgridcolor": "white",
             "startlinecolor": "#2a3f5f"
            },
            "baxis": {
             "endlinecolor": "#2a3f5f",
             "gridcolor": "white",
             "linecolor": "white",
             "minorgridcolor": "white",
             "startlinecolor": "#2a3f5f"
            },
            "type": "carpet"
           }
          ],
          "choropleth": [
           {
            "colorbar": {
             "outlinewidth": 0,
             "ticks": ""
            },
            "type": "choropleth"
           }
          ],
          "contour": [
           {
            "colorbar": {
             "outlinewidth": 0,
             "ticks": ""
            },
            "colorscale": [
             [
              0,
              "#0d0887"
             ],
             [
              0.1111111111111111,
              "#46039f"
             ],
             [
              0.2222222222222222,
              "#7201a8"
             ],
             [
              0.3333333333333333,
              "#9c179e"
             ],
             [
              0.4444444444444444,
              "#bd3786"
             ],
             [
              0.5555555555555556,
              "#d8576b"
             ],
             [
              0.6666666666666666,
              "#ed7953"
             ],
             [
              0.7777777777777778,
              "#fb9f3a"
             ],
             [
              0.8888888888888888,
              "#fdca26"
             ],
             [
              1,
              "#f0f921"
             ]
            ],
            "type": "contour"
           }
          ],
          "contourcarpet": [
           {
            "colorbar": {
             "outlinewidth": 0,
             "ticks": ""
            },
            "type": "contourcarpet"
           }
          ],
          "heatmap": [
           {
            "colorbar": {
             "outlinewidth": 0,
             "ticks": ""
            },
            "colorscale": [
             [
              0,
              "#0d0887"
             ],
             [
              0.1111111111111111,
              "#46039f"
             ],
             [
              0.2222222222222222,
              "#7201a8"
             ],
             [
              0.3333333333333333,
              "#9c179e"
             ],
             [
              0.4444444444444444,
              "#bd3786"
             ],
             [
              0.5555555555555556,
              "#d8576b"
             ],
             [
              0.6666666666666666,
              "#ed7953"
             ],
             [
              0.7777777777777778,
              "#fb9f3a"
             ],
             [
              0.8888888888888888,
              "#fdca26"
             ],
             [
              1,
              "#f0f921"
             ]
            ],
            "type": "heatmap"
           }
          ],
          "heatmapgl": [
           {
            "colorbar": {
             "outlinewidth": 0,
             "ticks": ""
            },
            "colorscale": [
             [
              0,
              "#0d0887"
             ],
             [
              0.1111111111111111,
              "#46039f"
             ],
             [
              0.2222222222222222,
              "#7201a8"
             ],
             [
              0.3333333333333333,
              "#9c179e"
             ],
             [
              0.4444444444444444,
              "#bd3786"
             ],
             [
              0.5555555555555556,
              "#d8576b"
             ],
             [
              0.6666666666666666,
              "#ed7953"
             ],
             [
              0.7777777777777778,
              "#fb9f3a"
             ],
             [
              0.8888888888888888,
              "#fdca26"
             ],
             [
              1,
              "#f0f921"
             ]
            ],
            "type": "heatmapgl"
           }
          ],
          "histogram": [
           {
            "marker": {
             "pattern": {
              "fillmode": "overlay",
              "size": 10,
              "solidity": 0.2
             }
            },
            "type": "histogram"
           }
          ],
          "histogram2d": [
           {
            "colorbar": {
             "outlinewidth": 0,
             "ticks": ""
            },
            "colorscale": [
             [
              0,
              "#0d0887"
             ],
             [
              0.1111111111111111,
              "#46039f"
             ],
             [
              0.2222222222222222,
              "#7201a8"
             ],
             [
              0.3333333333333333,
              "#9c179e"
             ],
             [
              0.4444444444444444,
              "#bd3786"
             ],
             [
              0.5555555555555556,
              "#d8576b"
             ],
             [
              0.6666666666666666,
              "#ed7953"
             ],
             [
              0.7777777777777778,
              "#fb9f3a"
             ],
             [
              0.8888888888888888,
              "#fdca26"
             ],
             [
              1,
              "#f0f921"
             ]
            ],
            "type": "histogram2d"
           }
          ],
          "histogram2dcontour": [
           {
            "colorbar": {
             "outlinewidth": 0,
             "ticks": ""
            },
            "colorscale": [
             [
              0,
              "#0d0887"
             ],
             [
              0.1111111111111111,
              "#46039f"
             ],
             [
              0.2222222222222222,
              "#7201a8"
             ],
             [
              0.3333333333333333,
              "#9c179e"
             ],
             [
              0.4444444444444444,
              "#bd3786"
             ],
             [
              0.5555555555555556,
              "#d8576b"
             ],
             [
              0.6666666666666666,
              "#ed7953"
             ],
             [
              0.7777777777777778,
              "#fb9f3a"
             ],
             [
              0.8888888888888888,
              "#fdca26"
             ],
             [
              1,
              "#f0f921"
             ]
            ],
            "type": "histogram2dcontour"
           }
          ],
          "mesh3d": [
           {
            "colorbar": {
             "outlinewidth": 0,
             "ticks": ""
            },
            "type": "mesh3d"
           }
          ],
          "parcoords": [
           {
            "line": {
             "colorbar": {
              "outlinewidth": 0,
              "ticks": ""
             }
            },
            "type": "parcoords"
           }
          ],
          "pie": [
           {
            "automargin": true,
            "type": "pie"
           }
          ],
          "scatter": [
           {
            "fillpattern": {
             "fillmode": "overlay",
             "size": 10,
             "solidity": 0.2
            },
            "type": "scatter"
           }
          ],
          "scatter3d": [
           {
            "line": {
             "colorbar": {
              "outlinewidth": 0,
              "ticks": ""
             }
            },
            "marker": {
             "colorbar": {
              "outlinewidth": 0,
              "ticks": ""
             }
            },
            "type": "scatter3d"
           }
          ],
          "scattercarpet": [
           {
            "marker": {
             "colorbar": {
              "outlinewidth": 0,
              "ticks": ""
             }
            },
            "type": "scattercarpet"
           }
          ],
          "scattergeo": [
           {
            "marker": {
             "colorbar": {
              "outlinewidth": 0,
              "ticks": ""
             }
            },
            "type": "scattergeo"
           }
          ],
          "scattergl": [
           {
            "marker": {
             "colorbar": {
              "outlinewidth": 0,
              "ticks": ""
             }
            },
            "type": "scattergl"
           }
          ],
          "scattermapbox": [
           {
            "marker": {
             "colorbar": {
              "outlinewidth": 0,
              "ticks": ""
             }
            },
            "type": "scattermapbox"
           }
          ],
          "scatterpolar": [
           {
            "marker": {
             "colorbar": {
              "outlinewidth": 0,
              "ticks": ""
             }
            },
            "type": "scatterpolar"
           }
          ],
          "scatterpolargl": [
           {
            "marker": {
             "colorbar": {
              "outlinewidth": 0,
              "ticks": ""
             }
            },
            "type": "scatterpolargl"
           }
          ],
          "scatterternary": [
           {
            "marker": {
             "colorbar": {
              "outlinewidth": 0,
              "ticks": ""
             }
            },
            "type": "scatterternary"
           }
          ],
          "surface": [
           {
            "colorbar": {
             "outlinewidth": 0,
             "ticks": ""
            },
            "colorscale": [
             [
              0,
              "#0d0887"
             ],
             [
              0.1111111111111111,
              "#46039f"
             ],
             [
              0.2222222222222222,
              "#7201a8"
             ],
             [
              0.3333333333333333,
              "#9c179e"
             ],
             [
              0.4444444444444444,
              "#bd3786"
             ],
             [
              0.5555555555555556,
              "#d8576b"
             ],
             [
              0.6666666666666666,
              "#ed7953"
             ],
             [
              0.7777777777777778,
              "#fb9f3a"
             ],
             [
              0.8888888888888888,
              "#fdca26"
             ],
             [
              1,
              "#f0f921"
             ]
            ],
            "type": "surface"
           }
          ],
          "table": [
           {
            "cells": {
             "fill": {
              "color": "#EBF0F8"
             },
             "line": {
              "color": "white"
             }
            },
            "header": {
             "fill": {
              "color": "#C8D4E3"
             },
             "line": {
              "color": "white"
             }
            },
            "type": "table"
           }
          ]
         },
         "layout": {
          "annotationdefaults": {
           "arrowcolor": "#2a3f5f",
           "arrowhead": 0,
           "arrowwidth": 1
          },
          "autotypenumbers": "strict",
          "coloraxis": {
           "colorbar": {
            "outlinewidth": 0,
            "ticks": ""
           }
          },
          "colorscale": {
           "diverging": [
            [
             0,
             "#8e0152"
            ],
            [
             0.1,
             "#c51b7d"
            ],
            [
             0.2,
             "#de77ae"
            ],
            [
             0.3,
             "#f1b6da"
            ],
            [
             0.4,
             "#fde0ef"
            ],
            [
             0.5,
             "#f7f7f7"
            ],
            [
             0.6,
             "#e6f5d0"
            ],
            [
             0.7,
             "#b8e186"
            ],
            [
             0.8,
             "#7fbc41"
            ],
            [
             0.9,
             "#4d9221"
            ],
            [
             1,
             "#276419"
            ]
           ],
           "sequential": [
            [
             0,
             "#0d0887"
            ],
            [
             0.1111111111111111,
             "#46039f"
            ],
            [
             0.2222222222222222,
             "#7201a8"
            ],
            [
             0.3333333333333333,
             "#9c179e"
            ],
            [
             0.4444444444444444,
             "#bd3786"
            ],
            [
             0.5555555555555556,
             "#d8576b"
            ],
            [
             0.6666666666666666,
             "#ed7953"
            ],
            [
             0.7777777777777778,
             "#fb9f3a"
            ],
            [
             0.8888888888888888,
             "#fdca26"
            ],
            [
             1,
             "#f0f921"
            ]
           ],
           "sequentialminus": [
            [
             0,
             "#0d0887"
            ],
            [
             0.1111111111111111,
             "#46039f"
            ],
            [
             0.2222222222222222,
             "#7201a8"
            ],
            [
             0.3333333333333333,
             "#9c179e"
            ],
            [
             0.4444444444444444,
             "#bd3786"
            ],
            [
             0.5555555555555556,
             "#d8576b"
            ],
            [
             0.6666666666666666,
             "#ed7953"
            ],
            [
             0.7777777777777778,
             "#fb9f3a"
            ],
            [
             0.8888888888888888,
             "#fdca26"
            ],
            [
             1,
             "#f0f921"
            ]
           ]
          },
          "colorway": [
           "#636efa",
           "#EF553B",
           "#00cc96",
           "#ab63fa",
           "#FFA15A",
           "#19d3f3",
           "#FF6692",
           "#B6E880",
           "#FF97FF",
           "#FECB52"
          ],
          "font": {
           "color": "#2a3f5f"
          },
          "geo": {
           "bgcolor": "white",
           "lakecolor": "white",
           "landcolor": "#E5ECF6",
           "showlakes": true,
           "showland": true,
           "subunitcolor": "white"
          },
          "hoverlabel": {
           "align": "left"
          },
          "hovermode": "closest",
          "mapbox": {
           "style": "light"
          },
          "paper_bgcolor": "white",
          "plot_bgcolor": "#E5ECF6",
          "polar": {
           "angularaxis": {
            "gridcolor": "white",
            "linecolor": "white",
            "ticks": ""
           },
           "bgcolor": "#E5ECF6",
           "radialaxis": {
            "gridcolor": "white",
            "linecolor": "white",
            "ticks": ""
           }
          },
          "scene": {
           "xaxis": {
            "backgroundcolor": "#E5ECF6",
            "gridcolor": "white",
            "gridwidth": 2,
            "linecolor": "white",
            "showbackground": true,
            "ticks": "",
            "zerolinecolor": "white"
           },
           "yaxis": {
            "backgroundcolor": "#E5ECF6",
            "gridcolor": "white",
            "gridwidth": 2,
            "linecolor": "white",
            "showbackground": true,
            "ticks": "",
            "zerolinecolor": "white"
           },
           "zaxis": {
            "backgroundcolor": "#E5ECF6",
            "gridcolor": "white",
            "gridwidth": 2,
            "linecolor": "white",
            "showbackground": true,
            "ticks": "",
            "zerolinecolor": "white"
           }
          },
          "shapedefaults": {
           "line": {
            "color": "#2a3f5f"
           }
          },
          "ternary": {
           "aaxis": {
            "gridcolor": "white",
            "linecolor": "white",
            "ticks": ""
           },
           "baxis": {
            "gridcolor": "white",
            "linecolor": "white",
            "ticks": ""
           },
           "bgcolor": "#E5ECF6",
           "caxis": {
            "gridcolor": "white",
            "linecolor": "white",
            "ticks": ""
           }
          },
          "title": {
           "x": 0.05
          },
          "xaxis": {
           "automargin": true,
           "gridcolor": "white",
           "linecolor": "white",
           "ticks": "",
           "title": {
            "standoff": 15
           },
           "zerolinecolor": "white",
           "zerolinewidth": 2
          },
          "yaxis": {
           "automargin": true,
           "gridcolor": "white",
           "linecolor": "white",
           "ticks": "",
           "title": {
            "standoff": 15
           },
           "zerolinecolor": "white",
           "zerolinewidth": 2
          }
         }
        },
        "title": {
         "text": "Cantidad de mensajes vs Tiempo",
         "x": 0.5,
         "xanchor": "center",
         "y": 0.96
        },
        "xaxis": {
         "anchor": "y",
         "domain": [
          0,
          1
         ],
         "tickangle": 30,
         "title": {
          "text": "Rango de hora"
         }
        },
        "yaxis": {
         "anchor": "x",
         "domain": [
          0,
          1
         ],
         "title": {
          "text": "# Mensajes"
         }
        }
       }
      }
     },
     "metadata": {},
     "output_type": "display_data"
    }
   ],
   "source": [
    "# Crear una columna de 1 para realizar el conteo de mensajes\n",
    "df['# Mensajes por rango de hora'] = 1\n",
    "\n",
    "# Sumar (contar) los mensajes que tengan la misma fecha\n",
    "#date_df = df.groupby('rangoHora').sum()\n",
    "#date_df.reset_index(inplace=True)\n",
    "\n",
    "date_df = df.groupby('rangoHora')['# Mensajes por rango de hora'].count().reset_index()\n",
    "\n",
    "\n",
    "# Plotear la cantidad de mensajes respecto del tiempo\n",
    "fig = px.line(date_df, x='rangoHora', y='# Mensajes por rango de hora')\n",
    "\n",
    "# Ajustar el gráfico\n",
    "fig.update_layout(\n",
    "    title={'text': 'Cantidad de mensajes vs Tiempo',\n",
    "             'y':0.96,\n",
    "             'x':0.5,\n",
    "             'xanchor': 'center'},\n",
    "    font=dict(size=12))\n",
    "fig.update_xaxes(title_text='Rango de hora', tickangle=30)\n",
    "fig.update_yaxes(title_text='# Mensajes')\n",
    "fig.show()"
   ]
  },
  {
   "cell_type": "markdown",
   "metadata": {
    "id": "g1je7y67Ow_6"
   },
   "source": [
    "#### Número de mensajes por rango de hora"
   ]
  },
  {
   "cell_type": "code",
   "execution_count": 61,
   "metadata": {
    "colab": {
     "base_uri": "https://localhost:8080/",
     "height": 615
    },
    "id": "X6OZemBtQVaC",
    "outputId": "c1e36183-5d2d-4d57-88af-7493ec550e8c"
   },
   "outputs": [
    {
     "data": {
      "application/vnd.plotly.v1+json": {
       "config": {
        "plotlyServerURL": "https://plot.ly"
       },
       "data": [
        {
         "hovertemplate": "HoraParseada=%{x}<br># Mensajes en esta hora=%{y}<extra></extra>",
         "legendgroup": "",
         "line": {
          "color": "#636efa",
          "dash": "solid"
         },
         "marker": {
          "symbol": "circle"
         },
         "mode": "lines",
         "name": "",
         "showlegend": false,
         "type": "scattergl",
         "x": [
          "00:00",
          "00:01",
          "00:02",
          "00:03",
          "00:04",
          "00:05",
          "00:06",
          "00:07",
          "00:08",
          "00:09",
          "00:10",
          "00:11",
          "00:12",
          "00:13",
          "00:14",
          "00:15",
          "00:16",
          "00:17",
          "00:18",
          "00:19",
          "00:20",
          "00:21",
          "00:22",
          "00:23",
          "00:24",
          "00:25",
          "00:26",
          "00:27",
          "00:28",
          "00:29",
          "00:30",
          "00:31",
          "00:32",
          "00:33",
          "00:34",
          "00:35",
          "00:36",
          "00:37",
          "00:38",
          "00:39",
          "00:40",
          "00:41",
          "00:42",
          "00:43",
          "00:44",
          "00:45",
          "00:46",
          "00:47",
          "00:48",
          "00:49",
          "00:50",
          "00:51",
          "00:52",
          "00:53",
          "00:54",
          "00:55",
          "00:56",
          "00:57",
          "00:58",
          "00:59",
          "01:00",
          "01:01",
          "01:02",
          "01:03",
          "01:04",
          "01:05",
          "01:06",
          "01:07",
          "01:08",
          "01:09",
          "01:10",
          "01:11",
          "01:12",
          "01:13",
          "01:14",
          "01:15",
          "01:16",
          "01:17",
          "01:18",
          "01:19",
          "01:20",
          "01:21",
          "01:22",
          "01:23",
          "01:24",
          "01:25",
          "01:26",
          "01:27",
          "01:28",
          "01:29",
          "01:30",
          "01:31",
          "01:32",
          "01:33",
          "01:34",
          "01:35",
          "01:36",
          "01:37",
          "01:38",
          "01:39",
          "01:40",
          "01:41",
          "01:42",
          "01:43",
          "01:44",
          "01:45",
          "01:46",
          "01:47",
          "01:48",
          "01:49",
          "01:50",
          "01:51",
          "01:52",
          "01:53",
          "01:54",
          "01:55",
          "01:56",
          "01:57",
          "01:58",
          "01:59",
          "02:00",
          "02:01",
          "02:02",
          "02:03",
          "02:04",
          "02:05",
          "02:06",
          "02:07",
          "02:08",
          "02:09",
          "02:10",
          "02:11",
          "02:12",
          "02:13",
          "02:14",
          "02:15",
          "02:16",
          "02:17",
          "02:18",
          "02:19",
          "02:20",
          "02:21",
          "02:22",
          "02:23",
          "02:24",
          "02:25",
          "02:26",
          "02:27",
          "02:28",
          "02:29",
          "02:30",
          "02:31",
          "02:32",
          "02:33",
          "02:34",
          "02:35",
          "02:36",
          "02:37",
          "02:38",
          "02:39",
          "02:40",
          "02:41",
          "02:42",
          "02:43",
          "02:44",
          "02:45",
          "02:46",
          "02:48",
          "02:49",
          "02:50",
          "02:51",
          "02:52",
          "02:53",
          "02:54",
          "02:55",
          "02:56",
          "02:58",
          "02:59",
          "03:00",
          "03:01",
          "03:02",
          "03:03",
          "03:08",
          "03:09",
          "03:10",
          "03:11",
          "03:12",
          "03:13",
          "03:14",
          "03:15",
          "03:16",
          "03:17",
          "03:18",
          "03:19",
          "03:20",
          "03:21",
          "03:22",
          "03:23",
          "03:24",
          "03:25",
          "03:26",
          "03:27",
          "03:28",
          "03:29",
          "03:31",
          "03:32",
          "03:33",
          "03:34",
          "03:35",
          "03:37",
          "03:38",
          "03:39",
          "03:40",
          "03:41",
          "03:42",
          "03:43",
          "03:44",
          "03:46",
          "03:47",
          "03:48",
          "03:49",
          "03:50",
          "03:51",
          "03:52",
          "03:53",
          "03:54",
          "03:55",
          "03:56",
          "03:57",
          "03:58",
          "03:59",
          "04:00",
          "04:01",
          "04:02",
          "04:18",
          "04:23",
          "04:28",
          "04:32",
          "04:35",
          "04:36",
          "04:39",
          "04:42",
          "04:43",
          "04:47",
          "04:49",
          "04:50",
          "04:51",
          "04:52",
          "04:53",
          "04:54",
          "04:57",
          "04:58",
          "04:59",
          "05:02",
          "05:07",
          "05:09",
          "05:10",
          "05:11",
          "05:14",
          "05:18",
          "05:19",
          "05:21",
          "05:22",
          "05:23",
          "05:24",
          "05:32",
          "05:33",
          "05:35",
          "05:40",
          "05:41",
          "05:42",
          "05:52",
          "05:53",
          "05:54",
          "05:56",
          "05:57",
          "05:58",
          "06:01",
          "06:02",
          "06:08",
          "06:10",
          "06:14",
          "06:15",
          "06:19",
          "06:23",
          "06:31",
          "06:34",
          "06:35",
          "06:40",
          "06:41",
          "06:49",
          "06:50",
          "06:52",
          "07:01",
          "07:02",
          "07:04",
          "07:05",
          "07:06",
          "07:07",
          "07:08",
          "07:09",
          "07:10",
          "07:11",
          "07:12",
          "07:13",
          "07:14",
          "07:15",
          "07:16",
          "07:19",
          "07:20",
          "07:21",
          "07:22",
          "07:23",
          "07:24",
          "07:25",
          "07:26",
          "07:27",
          "07:28",
          "07:29",
          "07:30",
          "07:31",
          "07:32",
          "07:33",
          "07:36",
          "07:37",
          "07:39",
          "07:40",
          "07:41",
          "07:42",
          "07:43",
          "07:44",
          "07:45",
          "07:46",
          "07:47",
          "07:48",
          "07:49",
          "07:50",
          "07:51",
          "07:52",
          "07:53",
          "07:54",
          "07:55",
          "07:56",
          "07:57",
          "07:58",
          "07:59",
          "08:00",
          "08:01",
          "08:02",
          "08:03",
          "08:04",
          "08:06",
          "08:08",
          "08:09",
          "08:10",
          "08:11",
          "08:12",
          "08:13",
          "08:14",
          "08:15",
          "08:16",
          "08:17",
          "08:18",
          "08:19",
          "08:20",
          "08:21",
          "08:22",
          "08:23",
          "08:24",
          "08:25",
          "08:26",
          "08:27",
          "08:28",
          "08:29",
          "08:30",
          "08:31",
          "08:32",
          "08:33",
          "08:34",
          "08:35",
          "08:36",
          "08:37",
          "08:38",
          "08:39",
          "08:40",
          "08:41",
          "08:42",
          "08:43",
          "08:44",
          "08:45",
          "08:46",
          "08:47",
          "08:48",
          "08:49",
          "08:50",
          "08:51",
          "08:52",
          "08:53",
          "08:54",
          "08:55",
          "08:56",
          "08:57",
          "08:58",
          "08:59",
          "09:00",
          "09:01",
          "09:02",
          "09:03",
          "09:04",
          "09:05",
          "09:06",
          "09:07",
          "09:08",
          "09:09",
          "09:10",
          "09:11",
          "09:12",
          "09:13",
          "09:14",
          "09:15",
          "09:16",
          "09:17",
          "09:18",
          "09:19",
          "09:20",
          "09:21",
          "09:22",
          "09:23",
          "09:24",
          "09:25",
          "09:26",
          "09:27",
          "09:28",
          "09:29",
          "09:30",
          "09:31",
          "09:32",
          "09:33",
          "09:34",
          "09:35",
          "09:36",
          "09:37",
          "09:38",
          "09:39",
          "09:40",
          "09:41",
          "09:42",
          "09:43",
          "09:44",
          "09:45",
          "09:46",
          "09:47",
          "09:48",
          "09:49",
          "09:50",
          "09:51",
          "09:52",
          "09:53",
          "09:54",
          "09:55",
          "09:56",
          "09:57",
          "09:58",
          "09:59",
          "10:00",
          "10:01",
          "10:02",
          "10:03",
          "10:04",
          "10:05",
          "10:06",
          "10:07",
          "10:08",
          "10:09",
          "10:10",
          "10:11",
          "10:12",
          "10:13",
          "10:14",
          "10:15",
          "10:16",
          "10:17",
          "10:18",
          "10:19",
          "10:20",
          "10:21",
          "10:22",
          "10:23",
          "10:24",
          "10:25",
          "10:26",
          "10:27",
          "10:28",
          "10:29",
          "10:30",
          "10:31",
          "10:32",
          "10:33",
          "10:34",
          "10:35",
          "10:36",
          "10:37",
          "10:38",
          "10:39",
          "10:40",
          "10:41",
          "10:42",
          "10:43",
          "10:44",
          "10:45",
          "10:46",
          "10:47",
          "10:48",
          "10:49",
          "10:50",
          "10:51",
          "10:52",
          "10:53",
          "10:54",
          "10:55",
          "10:56",
          "10:57",
          "10:58",
          "10:59",
          "11:00",
          "11:01",
          "11:02",
          "11:03",
          "11:04",
          "11:05",
          "11:06",
          "11:07",
          "11:08",
          "11:09",
          "11:10",
          "11:11",
          "11:12",
          "11:13",
          "11:14",
          "11:15",
          "11:16",
          "11:17",
          "11:18",
          "11:19",
          "11:20",
          "11:21",
          "11:22",
          "11:23",
          "11:24",
          "11:25",
          "11:26",
          "11:27",
          "11:28",
          "11:29",
          "11:30",
          "11:31",
          "11:32",
          "11:33",
          "11:34",
          "11:35",
          "11:36",
          "11:37",
          "11:38",
          "11:39",
          "11:40",
          "11:41",
          "11:42",
          "11:43",
          "11:44",
          "11:45",
          "11:46",
          "11:47",
          "11:48",
          "11:49",
          "11:50",
          "11:51",
          "11:52",
          "11:53",
          "11:54",
          "11:55",
          "11:56",
          "11:57",
          "11:58",
          "11:59",
          "12:00",
          "12:01",
          "12:02",
          "12:03",
          "12:04",
          "12:05",
          "12:06",
          "12:07",
          "12:08",
          "12:09",
          "12:10",
          "12:11",
          "12:12",
          "12:13",
          "12:14",
          "12:15",
          "12:16",
          "12:17",
          "12:18",
          "12:19",
          "12:20",
          "12:21",
          "12:22",
          "12:23",
          "12:24",
          "12:25",
          "12:26",
          "12:27",
          "12:28",
          "12:29",
          "12:30",
          "12:31",
          "12:32",
          "12:33",
          "12:34",
          "12:35",
          "12:36",
          "12:37",
          "12:38",
          "12:39",
          "12:40",
          "12:41",
          "12:42",
          "12:43",
          "12:44",
          "12:45",
          "12:46",
          "12:47",
          "12:48",
          "12:49",
          "12:50",
          "12:51",
          "12:52",
          "12:53",
          "12:54",
          "12:55",
          "12:56",
          "12:57",
          "12:58",
          "12:59",
          "13:00",
          "13:01",
          "13:02",
          "13:03",
          "13:04",
          "13:05",
          "13:06",
          "13:07",
          "13:08",
          "13:09",
          "13:10",
          "13:11",
          "13:12",
          "13:13",
          "13:14",
          "13:15",
          "13:16",
          "13:17",
          "13:18",
          "13:19",
          "13:20",
          "13:21",
          "13:22",
          "13:23",
          "13:24",
          "13:25",
          "13:26",
          "13:27",
          "13:28",
          "13:29",
          "13:30",
          "13:31",
          "13:32",
          "13:33",
          "13:34",
          "13:35",
          "13:36",
          "13:37",
          "13:38",
          "13:39",
          "13:40",
          "13:41",
          "13:42",
          "13:43",
          "13:44",
          "13:45",
          "13:46",
          "13:47",
          "13:48",
          "13:49",
          "13:50",
          "13:51",
          "13:52",
          "13:53",
          "13:54",
          "13:55",
          "13:56",
          "13:57",
          "13:58",
          "13:59",
          "14:00",
          "14:01",
          "14:02",
          "14:03",
          "14:04",
          "14:05",
          "14:06",
          "14:07",
          "14:08",
          "14:09",
          "14:10",
          "14:11",
          "14:12",
          "14:13",
          "14:14",
          "14:15",
          "14:16",
          "14:17",
          "14:18",
          "14:19",
          "14:20",
          "14:21",
          "14:22",
          "14:23",
          "14:24",
          "14:25",
          "14:26",
          "14:27",
          "14:28",
          "14:29",
          "14:30",
          "14:31",
          "14:32",
          "14:33",
          "14:34",
          "14:35",
          "14:36",
          "14:37",
          "14:38",
          "14:39",
          "14:40",
          "14:41",
          "14:42",
          "14:43",
          "14:44",
          "14:45",
          "14:46",
          "14:47",
          "14:48",
          "14:49",
          "14:50",
          "14:51",
          "14:52",
          "14:53",
          "14:54",
          "14:55",
          "14:56",
          "14:57",
          "14:58",
          "14:59",
          "15:00",
          "15:01",
          "15:02",
          "15:03",
          "15:04",
          "15:05",
          "15:06",
          "15:07",
          "15:08",
          "15:09",
          "15:10",
          "15:11",
          "15:12",
          "15:13",
          "15:14",
          "15:15",
          "15:16",
          "15:17",
          "15:18",
          "15:19",
          "15:20",
          "15:21",
          "15:22",
          "15:23",
          "15:24",
          "15:25",
          "15:26",
          "15:27",
          "15:28",
          "15:29",
          "15:30",
          "15:31",
          "15:32",
          "15:33",
          "15:34",
          "15:35",
          "15:36",
          "15:37",
          "15:38",
          "15:39",
          "15:40",
          "15:41",
          "15:42",
          "15:43",
          "15:44",
          "15:45",
          "15:46",
          "15:47",
          "15:48",
          "15:49",
          "15:50",
          "15:51",
          "15:52",
          "15:53",
          "15:54",
          "15:55",
          "15:56",
          "15:57",
          "15:58",
          "15:59",
          "16:00",
          "16:01",
          "16:02",
          "16:03",
          "16:04",
          "16:05",
          "16:06",
          "16:07",
          "16:08",
          "16:09",
          "16:10",
          "16:11",
          "16:12",
          "16:13",
          "16:14",
          "16:15",
          "16:16",
          "16:17",
          "16:18",
          "16:19",
          "16:20",
          "16:21",
          "16:22",
          "16:23",
          "16:24",
          "16:25",
          "16:26",
          "16:27",
          "16:28",
          "16:29",
          "16:30",
          "16:31",
          "16:32",
          "16:33",
          "16:34",
          "16:35",
          "16:36",
          "16:37",
          "16:38",
          "16:39",
          "16:40",
          "16:41",
          "16:42",
          "16:43",
          "16:44",
          "16:45",
          "16:46",
          "16:47",
          "16:48",
          "16:49",
          "16:50",
          "16:51",
          "16:52",
          "16:53",
          "16:54",
          "16:55",
          "16:56",
          "16:57",
          "16:58",
          "16:59",
          "17:00",
          "17:01",
          "17:02",
          "17:03",
          "17:04",
          "17:05",
          "17:06",
          "17:07",
          "17:08",
          "17:09",
          "17:10",
          "17:11",
          "17:12",
          "17:13",
          "17:14",
          "17:15",
          "17:16",
          "17:17",
          "17:18",
          "17:19",
          "17:20",
          "17:21",
          "17:22",
          "17:23",
          "17:24",
          "17:25",
          "17:26",
          "17:27",
          "17:28",
          "17:29",
          "17:30",
          "17:31",
          "17:32",
          "17:33",
          "17:34",
          "17:35",
          "17:36",
          "17:37",
          "17:38",
          "17:39",
          "17:40",
          "17:41",
          "17:42",
          "17:43",
          "17:44",
          "17:45",
          "17:46",
          "17:47",
          "17:48",
          "17:49",
          "17:50",
          "17:51",
          "17:52",
          "17:53",
          "17:54",
          "17:55",
          "17:56",
          "17:57",
          "17:58",
          "17:59",
          "18:00",
          "18:01",
          "18:02",
          "18:03",
          "18:04",
          "18:05",
          "18:06",
          "18:07",
          "18:08",
          "18:09",
          "18:10",
          "18:11",
          "18:12",
          "18:13",
          "18:14",
          "18:15",
          "18:16",
          "18:17",
          "18:18",
          "18:19",
          "18:20",
          "18:21",
          "18:22",
          "18:23",
          "18:24",
          "18:25",
          "18:26",
          "18:27",
          "18:28",
          "18:29",
          "18:30",
          "18:31",
          "18:32",
          "18:33",
          "18:34",
          "18:35",
          "18:36",
          "18:37",
          "18:38",
          "18:39",
          "18:40",
          "18:41",
          "18:42",
          "18:43",
          "18:44",
          "18:45",
          "18:46",
          "18:47",
          "18:48",
          "18:49",
          "18:50",
          "18:51",
          "18:52",
          "18:53",
          "18:54",
          "18:55",
          "18:56",
          "18:57",
          "18:58",
          "18:59",
          "19:00",
          "19:01",
          "19:02",
          "19:03",
          "19:04",
          "19:05",
          "19:06",
          "19:07",
          "19:08",
          "19:09",
          "19:10",
          "19:11",
          "19:12",
          "19:13",
          "19:14",
          "19:15",
          "19:16",
          "19:17",
          "19:18",
          "19:19",
          "19:20",
          "19:21",
          "19:22",
          "19:23",
          "19:24",
          "19:25",
          "19:26",
          "19:27",
          "19:28",
          "19:29",
          "19:30",
          "19:31",
          "19:32",
          "19:33",
          "19:34",
          "19:35",
          "19:36",
          "19:37",
          "19:38",
          "19:39",
          "19:40",
          "19:41",
          "19:42",
          "19:43",
          "19:44",
          "19:45",
          "19:46",
          "19:47",
          "19:48",
          "19:49",
          "19:50",
          "19:51",
          "19:52",
          "19:53",
          "19:54",
          "19:55",
          "19:56",
          "19:57",
          "19:58",
          "19:59",
          "20:00",
          "20:01",
          "20:02",
          "20:03",
          "20:04",
          "20:05",
          "20:06",
          "20:07",
          "20:08",
          "20:09",
          "20:10",
          "20:11",
          "20:12",
          "20:13",
          "20:14",
          "20:15",
          "20:16",
          "20:17",
          "20:18",
          "20:19",
          "20:20",
          "20:21",
          "20:22",
          "20:23",
          "20:24",
          "20:25",
          "20:26",
          "20:27",
          "20:28",
          "20:29",
          "20:30",
          "20:31",
          "20:32",
          "20:33",
          "20:34",
          "20:35",
          "20:36",
          "20:37",
          "20:38",
          "20:39",
          "20:40",
          "20:41",
          "20:42",
          "20:43",
          "20:44",
          "20:45",
          "20:46",
          "20:47",
          "20:48",
          "20:49",
          "20:50",
          "20:51",
          "20:52",
          "20:53",
          "20:54",
          "20:55",
          "20:56",
          "20:57",
          "20:58",
          "20:59",
          "21:00",
          "21:01",
          "21:02",
          "21:03",
          "21:04",
          "21:05",
          "21:06",
          "21:07",
          "21:08",
          "21:09",
          "21:10",
          "21:11",
          "21:12",
          "21:13",
          "21:14",
          "21:15",
          "21:16",
          "21:17",
          "21:18",
          "21:19",
          "21:20",
          "21:21",
          "21:22",
          "21:23",
          "21:24",
          "21:25",
          "21:26",
          "21:27",
          "21:28",
          "21:29",
          "21:30",
          "21:31",
          "21:32",
          "21:33",
          "21:34",
          "21:35",
          "21:36",
          "21:37",
          "21:38",
          "21:39",
          "21:40",
          "21:41",
          "21:42",
          "21:43",
          "21:44",
          "21:45",
          "21:46",
          "21:47",
          "21:48",
          "21:49",
          "21:50",
          "21:51",
          "21:52",
          "21:53",
          "21:54",
          "21:55",
          "21:56",
          "21:57",
          "21:58",
          "21:59",
          "22:00",
          "22:01",
          "22:02",
          "22:03",
          "22:04",
          "22:05",
          "22:06",
          "22:07",
          "22:08",
          "22:09",
          "22:10",
          "22:11",
          "22:12",
          "22:13",
          "22:14",
          "22:15",
          "22:16",
          "22:17",
          "22:18",
          "22:19",
          "22:20",
          "22:21",
          "22:22",
          "22:23",
          "22:24",
          "22:25",
          "22:26",
          "22:27",
          "22:28",
          "22:29",
          "22:30",
          "22:31",
          "22:32",
          "22:33",
          "22:34",
          "22:35",
          "22:36",
          "22:37",
          "22:38",
          "22:39",
          "22:40",
          "22:41",
          "22:42",
          "22:43",
          "22:44",
          "22:45",
          "22:46",
          "22:47",
          "22:48",
          "22:49",
          "22:50",
          "22:51",
          "22:52",
          "22:53",
          "22:54",
          "22:55",
          "22:56",
          "22:57",
          "22:58",
          "22:59",
          "23:00",
          "23:01",
          "23:02",
          "23:03",
          "23:04",
          "23:05",
          "23:06",
          "23:07",
          "23:08",
          "23:09",
          "23:10",
          "23:11",
          "23:12",
          "23:13",
          "23:14",
          "23:15",
          "23:16",
          "23:17",
          "23:18",
          "23:19",
          "23:20",
          "23:21",
          "23:22",
          "23:23",
          "23:24",
          "23:25",
          "23:26",
          "23:27",
          "23:28",
          "23:29",
          "23:30",
          "23:31",
          "23:32",
          "23:33",
          "23:34",
          "23:35",
          "23:36",
          "23:37",
          "23:38",
          "23:39",
          "23:40",
          "23:41",
          "23:42",
          "23:43",
          "23:44",
          "23:45",
          "23:46",
          "23:47",
          "23:48",
          "23:49",
          "23:50",
          "23:51",
          "23:52",
          "23:53",
          "23:54",
          "23:55",
          "23:56",
          "23:57",
          "23:58",
          "23:59"
         ],
         "xaxis": "x",
         "y": [
          67,
          36,
          33,
          50,
          73,
          62,
          87,
          53,
          65,
          99,
          90,
          64,
          45,
          67,
          76,
          47,
          74,
          55,
          54,
          66,
          63,
          69,
          73,
          57,
          29,
          44,
          39,
          59,
          72,
          62,
          43,
          44,
          41,
          48,
          41,
          29,
          54,
          55,
          42,
          60,
          41,
          57,
          44,
          35,
          51,
          40,
          43,
          70,
          66,
          51,
          63,
          79,
          58,
          73,
          61,
          71,
          83,
          83,
          75,
          51,
          53,
          49,
          97,
          56,
          29,
          31,
          44,
          18,
          55,
          46,
          32,
          34,
          32,
          66,
          45,
          55,
          42,
          37,
          48,
          51,
          86,
          71,
          58,
          91,
          47,
          43,
          54,
          79,
          54,
          73,
          36,
          55,
          61,
          67,
          62,
          74,
          65,
          49,
          67,
          57,
          53,
          56,
          52,
          39,
          29,
          34,
          57,
          47,
          68,
          38,
          42,
          44,
          32,
          52,
          77,
          58,
          47,
          50,
          38,
          47,
          39,
          48,
          44,
          51,
          61,
          61,
          73,
          72,
          58,
          62,
          78,
          66,
          89,
          65,
          77,
          37,
          45,
          46,
          42,
          27,
          26,
          45,
          68,
          38,
          57,
          62,
          47,
          38,
          56,
          52,
          41,
          29,
          36,
          28,
          39,
          2,
          3,
          1,
          1,
          5,
          2,
          1,
          7,
          2,
          4,
          5,
          2,
          1,
          3,
          19,
          9,
          13,
          15,
          10,
          8,
          6,
          4,
          4,
          12,
          6,
          5,
          6,
          2,
          2,
          3,
          6,
          3,
          4,
          12,
          6,
          3,
          2,
          1,
          2,
          1,
          8,
          20,
          10,
          14,
          11,
          4,
          6,
          11,
          1,
          9,
          1,
          1,
          1,
          1,
          7,
          4,
          8,
          4,
          7,
          9,
          12,
          3,
          2,
          2,
          6,
          2,
          2,
          6,
          10,
          10,
          12,
          11,
          7,
          2,
          4,
          5,
          3,
          3,
          3,
          4,
          4,
          1,
          2,
          1,
          1,
          1,
          2,
          2,
          3,
          1,
          5,
          5,
          9,
          7,
          8,
          1,
          1,
          3,
          3,
          1,
          1,
          5,
          13,
          1,
          2,
          1,
          2,
          3,
          1,
          1,
          4,
          1,
          2,
          4,
          3,
          1,
          2,
          2,
          2,
          1,
          5,
          7,
          4,
          2,
          4,
          2,
          3,
          5,
          1,
          1,
          2,
          2,
          1,
          1,
          6,
          4,
          2,
          2,
          1,
          1,
          6,
          11,
          18,
          18,
          14,
          10,
          7,
          5,
          6,
          4,
          4,
          14,
          4,
          3,
          5,
          3,
          3,
          1,
          2,
          3,
          6,
          8,
          2,
          9,
          4,
          9,
          2,
          1,
          3,
          3,
          4,
          12,
          19,
          18,
          4,
          16,
          8,
          15,
          9,
          1,
          6,
          26,
          7,
          8,
          22,
          7,
          9,
          7,
          6,
          9,
          2,
          6,
          8,
          14,
          6,
          13,
          1,
          4,
          4,
          1,
          8,
          8,
          4,
          7,
          10,
          33,
          36,
          17,
          4,
          8,
          7,
          1,
          7,
          9,
          4,
          11,
          6,
          5,
          13,
          33,
          18,
          25,
          12,
          6,
          3,
          7,
          20,
          20,
          17,
          16,
          25,
          17,
          9,
          4,
          15,
          15,
          8,
          5,
          19,
          25,
          15,
          4,
          28,
          20,
          26,
          38,
          48,
          26,
          31,
          40,
          26,
          20,
          17,
          30,
          21,
          29,
          26,
          32,
          39,
          23,
          32,
          37,
          17,
          21,
          13,
          20,
          15,
          17,
          51,
          36,
          44,
          18,
          2,
          4,
          19,
          11,
          14,
          2,
          20,
          27,
          10,
          19,
          20,
          3,
          4,
          13,
          30,
          28,
          25,
          28,
          16,
          9,
          2,
          3,
          15,
          22,
          15,
          15,
          24,
          12,
          10,
          22,
          21,
          27,
          15,
          8,
          8,
          7,
          14,
          9,
          12,
          19,
          41,
          37,
          28,
          21,
          36,
          34,
          35,
          15,
          17,
          8,
          5,
          22,
          43,
          24,
          49,
          53,
          39,
          51,
          66,
          53,
          52,
          47,
          38,
          30,
          23,
          37,
          36,
          51,
          26,
          10,
          16,
          22,
          16,
          31,
          25,
          31,
          30,
          38,
          37,
          24,
          30,
          31,
          19,
          51,
          18,
          16,
          20,
          19,
          24,
          10,
          25,
          19,
          17,
          11,
          17,
          12,
          26,
          18,
          26,
          20,
          13,
          31,
          14,
          26,
          37,
          40,
          24,
          17,
          17,
          18,
          31,
          37,
          28,
          23,
          27,
          45,
          37,
          32,
          29,
          18,
          12,
          11,
          5,
          8,
          15,
          16,
          46,
          36,
          52,
          48,
          23,
          22,
          33,
          50,
          40,
          34,
          49,
          64,
          59,
          54,
          49,
          39,
          45,
          43,
          39,
          43,
          72,
          68,
          72,
          42,
          45,
          28,
          57,
          39,
          43,
          47,
          41,
          35,
          39,
          11,
          9,
          32,
          23,
          30,
          13,
          23,
          14,
          9,
          4,
          25,
          32,
          32,
          43,
          46,
          48,
          61,
          57,
          64,
          71,
          54,
          40,
          56,
          53,
          62,
          32,
          29,
          52,
          33,
          36,
          31,
          33,
          37,
          55,
          44,
          17,
          21,
          36,
          59,
          60,
          63,
          41,
          50,
          50,
          63,
          42,
          37,
          57,
          34,
          14,
          8,
          16,
          31,
          30,
          19,
          43,
          40,
          84,
          65,
          53,
          43,
          44,
          40,
          35,
          12,
          43,
          25,
          22,
          20,
          28,
          40,
          51,
          57,
          66,
          61,
          54,
          67,
          50,
          33,
          53,
          37,
          26,
          46,
          42,
          39,
          28,
          26,
          54,
          34,
          40,
          57,
          48,
          42,
          40,
          20,
          24,
          30,
          25,
          46,
          64,
          38,
          41,
          87,
          64,
          58,
          64,
          49,
          52,
          55,
          62,
          63,
          68,
          64,
          52,
          49,
          65,
          50,
          75,
          71,
          47,
          62,
          72,
          66,
          73,
          54,
          50,
          26,
          63,
          32,
          55,
          49,
          49,
          64,
          26,
          38,
          77,
          69,
          36,
          24,
          28,
          32,
          56,
          35,
          50,
          46,
          53,
          29,
          35,
          40,
          55,
          27,
          49,
          28,
          42,
          27,
          33,
          32,
          36,
          33,
          23,
          29,
          28,
          19,
          17,
          23,
          21,
          38,
          56,
          64,
          36,
          50,
          75,
          14,
          22,
          30,
          30,
          15,
          33,
          26,
          39,
          50,
          59,
          32,
          42,
          16,
          25,
          38,
          56,
          31,
          48,
          40,
          52,
          47,
          28,
          21,
          41,
          77,
          41,
          45,
          47,
          42,
          25,
          21,
          16,
          22,
          52,
          45,
          25,
          51,
          35,
          28,
          42,
          44,
          44,
          45,
          76,
          76,
          80,
          74,
          120,
          66,
          73,
          72,
          52,
          46,
          45,
          46,
          48,
          65,
          42,
          27,
          34,
          7,
          15,
          43,
          39,
          38,
          9,
          32,
          27,
          42,
          47,
          57,
          46,
          50,
          44,
          31,
          15,
          16,
          12,
          26,
          27,
          21,
          22,
          24,
          35,
          38,
          33,
          25,
          8,
          27,
          19,
          26,
          20,
          28,
          40,
          41,
          50,
          37,
          20,
          16,
          26,
          21,
          19,
          16,
          25,
          40,
          57,
          52,
          81,
          50,
          42,
          18,
          29,
          50,
          58,
          65,
          35,
          27,
          63,
          64,
          43,
          29,
          30,
          30,
          47,
          40,
          35,
          48,
          25,
          21,
          30,
          20,
          27,
          55,
          46,
          52,
          27,
          10,
          38,
          38,
          26,
          7,
          37,
          50,
          44,
          51,
          49,
          47,
          13,
          28,
          32,
          9,
          17,
          9,
          12,
          43,
          45,
          31,
          42,
          10,
          11,
          11,
          29,
          24,
          36,
          45,
          29,
          7,
          22,
          35,
          47,
          22,
          26,
          30,
          23,
          39,
          9,
          7,
          29,
          15,
          16,
          15,
          23,
          18,
          4,
          20,
          29,
          25,
          17,
          27,
          36,
          54,
          35,
          23,
          14,
          21,
          16,
          25,
          6,
          22,
          54,
          65,
          49,
          27,
          26,
          24,
          13,
          14,
          28,
          28,
          39,
          47,
          52,
          29,
          30,
          48,
          17,
          23,
          20,
          50,
          33,
          23,
          21,
          17,
          28,
          18,
          24,
          16,
          16,
          17,
          8,
          7,
          11,
          19,
          33,
          49,
          24,
          10,
          17,
          23,
          19,
          34,
          12,
          25,
          3,
          17,
          64,
          65,
          38,
          29,
          23,
          13,
          20,
          23,
          16,
          24,
          5,
          37,
          29,
          40,
          62,
          35,
          41,
          54,
          45,
          3,
          17,
          11,
          13,
          13,
          18,
          44,
          32,
          26,
          34,
          42,
          32,
          28,
          19,
          25,
          35,
          19,
          2,
          5,
          10,
          30,
          50,
          67,
          73,
          62,
          56,
          34,
          46,
          53,
          57,
          56,
          61,
          51,
          70,
          55,
          50,
          56,
          32,
          42,
          57,
          39,
          49,
          30,
          32,
          12,
          10,
          15,
          25,
          18,
          34,
          43,
          59,
          43,
          44,
          56,
          34,
          6,
          18,
          29,
          31,
          41,
          21,
          17,
          15,
          26,
          12,
          13,
          26,
          12,
          17,
          39,
          10,
          32,
          50,
          40,
          48,
          44,
          39,
          34,
          22,
          25,
          26,
          20,
          13,
          13,
          9,
          14,
          11,
          15,
          45,
          45,
          40,
          31,
          33,
          30,
          19,
          35,
          35,
          14,
          23,
          17,
          14,
          23,
          18,
          24,
          44,
          31,
          44,
          34,
          34,
          17,
          11,
          4,
          23,
          19,
          4,
          1,
          34,
          27,
          17,
          47,
          56,
          53,
          48,
          33,
          59,
          26,
          28,
          17,
          25,
          51,
          51,
          42,
          53,
          55,
          43,
          41,
          64,
          57,
          42,
          43,
          35,
          32,
          62,
          85,
          72,
          52,
          47,
          45,
          30,
          30,
          43,
          40,
          28,
          32,
          56,
          40,
          13,
          42,
          65,
          58,
          40,
          32,
          26,
          25,
          21,
          21,
          22,
          17,
          18,
          25,
          29,
          23,
          16,
          11,
          13,
          4,
          14,
          58,
          46,
          20,
          44,
          29,
          18,
          7,
          29,
          19,
          20,
          2,
          5,
          14,
          13,
          5,
          10,
          11,
          16,
          8,
          5,
          4,
          22,
          39,
          29,
          19,
          41,
          51,
          30,
          41,
          18,
          15,
          36,
          37,
          41,
          40,
          50,
          21,
          20,
          22,
          26,
          59,
          72,
          39,
          20,
          10,
          22,
          7,
          12,
          5,
          30,
          13,
          12,
          29,
          33,
          17,
          36,
          14,
          22,
          8,
          10,
          41,
          10,
          20,
          18,
          20,
          27,
          17,
          11,
          9,
          13,
          13,
          17,
          47,
          27,
          21,
          16,
          22,
          5,
          8,
          27,
          18,
          11,
          43,
          46,
          53,
          54,
          73,
          71,
          42,
          32,
          30,
          46,
          69,
          64,
          56,
          31,
          11,
          22,
          25,
          15,
          25,
          57,
          57,
          53
         ],
         "yaxis": "y"
        }
       ],
       "layout": {
        "font": {
         "size": 12
        },
        "legend": {
         "tracegroupgap": 0
        },
        "margin": {
         "t": 60
        },
        "template": {
         "data": {
          "bar": [
           {
            "error_x": {
             "color": "#2a3f5f"
            },
            "error_y": {
             "color": "#2a3f5f"
            },
            "marker": {
             "line": {
              "color": "#E5ECF6",
              "width": 0.5
             },
             "pattern": {
              "fillmode": "overlay",
              "size": 10,
              "solidity": 0.2
             }
            },
            "type": "bar"
           }
          ],
          "barpolar": [
           {
            "marker": {
             "line": {
              "color": "#E5ECF6",
              "width": 0.5
             },
             "pattern": {
              "fillmode": "overlay",
              "size": 10,
              "solidity": 0.2
             }
            },
            "type": "barpolar"
           }
          ],
          "carpet": [
           {
            "aaxis": {
             "endlinecolor": "#2a3f5f",
             "gridcolor": "white",
             "linecolor": "white",
             "minorgridcolor": "white",
             "startlinecolor": "#2a3f5f"
            },
            "baxis": {
             "endlinecolor": "#2a3f5f",
             "gridcolor": "white",
             "linecolor": "white",
             "minorgridcolor": "white",
             "startlinecolor": "#2a3f5f"
            },
            "type": "carpet"
           }
          ],
          "choropleth": [
           {
            "colorbar": {
             "outlinewidth": 0,
             "ticks": ""
            },
            "type": "choropleth"
           }
          ],
          "contour": [
           {
            "colorbar": {
             "outlinewidth": 0,
             "ticks": ""
            },
            "colorscale": [
             [
              0,
              "#0d0887"
             ],
             [
              0.1111111111111111,
              "#46039f"
             ],
             [
              0.2222222222222222,
              "#7201a8"
             ],
             [
              0.3333333333333333,
              "#9c179e"
             ],
             [
              0.4444444444444444,
              "#bd3786"
             ],
             [
              0.5555555555555556,
              "#d8576b"
             ],
             [
              0.6666666666666666,
              "#ed7953"
             ],
             [
              0.7777777777777778,
              "#fb9f3a"
             ],
             [
              0.8888888888888888,
              "#fdca26"
             ],
             [
              1,
              "#f0f921"
             ]
            ],
            "type": "contour"
           }
          ],
          "contourcarpet": [
           {
            "colorbar": {
             "outlinewidth": 0,
             "ticks": ""
            },
            "type": "contourcarpet"
           }
          ],
          "heatmap": [
           {
            "colorbar": {
             "outlinewidth": 0,
             "ticks": ""
            },
            "colorscale": [
             [
              0,
              "#0d0887"
             ],
             [
              0.1111111111111111,
              "#46039f"
             ],
             [
              0.2222222222222222,
              "#7201a8"
             ],
             [
              0.3333333333333333,
              "#9c179e"
             ],
             [
              0.4444444444444444,
              "#bd3786"
             ],
             [
              0.5555555555555556,
              "#d8576b"
             ],
             [
              0.6666666666666666,
              "#ed7953"
             ],
             [
              0.7777777777777778,
              "#fb9f3a"
             ],
             [
              0.8888888888888888,
              "#fdca26"
             ],
             [
              1,
              "#f0f921"
             ]
            ],
            "type": "heatmap"
           }
          ],
          "heatmapgl": [
           {
            "colorbar": {
             "outlinewidth": 0,
             "ticks": ""
            },
            "colorscale": [
             [
              0,
              "#0d0887"
             ],
             [
              0.1111111111111111,
              "#46039f"
             ],
             [
              0.2222222222222222,
              "#7201a8"
             ],
             [
              0.3333333333333333,
              "#9c179e"
             ],
             [
              0.4444444444444444,
              "#bd3786"
             ],
             [
              0.5555555555555556,
              "#d8576b"
             ],
             [
              0.6666666666666666,
              "#ed7953"
             ],
             [
              0.7777777777777778,
              "#fb9f3a"
             ],
             [
              0.8888888888888888,
              "#fdca26"
             ],
             [
              1,
              "#f0f921"
             ]
            ],
            "type": "heatmapgl"
           }
          ],
          "histogram": [
           {
            "marker": {
             "pattern": {
              "fillmode": "overlay",
              "size": 10,
              "solidity": 0.2
             }
            },
            "type": "histogram"
           }
          ],
          "histogram2d": [
           {
            "colorbar": {
             "outlinewidth": 0,
             "ticks": ""
            },
            "colorscale": [
             [
              0,
              "#0d0887"
             ],
             [
              0.1111111111111111,
              "#46039f"
             ],
             [
              0.2222222222222222,
              "#7201a8"
             ],
             [
              0.3333333333333333,
              "#9c179e"
             ],
             [
              0.4444444444444444,
              "#bd3786"
             ],
             [
              0.5555555555555556,
              "#d8576b"
             ],
             [
              0.6666666666666666,
              "#ed7953"
             ],
             [
              0.7777777777777778,
              "#fb9f3a"
             ],
             [
              0.8888888888888888,
              "#fdca26"
             ],
             [
              1,
              "#f0f921"
             ]
            ],
            "type": "histogram2d"
           }
          ],
          "histogram2dcontour": [
           {
            "colorbar": {
             "outlinewidth": 0,
             "ticks": ""
            },
            "colorscale": [
             [
              0,
              "#0d0887"
             ],
             [
              0.1111111111111111,
              "#46039f"
             ],
             [
              0.2222222222222222,
              "#7201a8"
             ],
             [
              0.3333333333333333,
              "#9c179e"
             ],
             [
              0.4444444444444444,
              "#bd3786"
             ],
             [
              0.5555555555555556,
              "#d8576b"
             ],
             [
              0.6666666666666666,
              "#ed7953"
             ],
             [
              0.7777777777777778,
              "#fb9f3a"
             ],
             [
              0.8888888888888888,
              "#fdca26"
             ],
             [
              1,
              "#f0f921"
             ]
            ],
            "type": "histogram2dcontour"
           }
          ],
          "mesh3d": [
           {
            "colorbar": {
             "outlinewidth": 0,
             "ticks": ""
            },
            "type": "mesh3d"
           }
          ],
          "parcoords": [
           {
            "line": {
             "colorbar": {
              "outlinewidth": 0,
              "ticks": ""
             }
            },
            "type": "parcoords"
           }
          ],
          "pie": [
           {
            "automargin": true,
            "type": "pie"
           }
          ],
          "scatter": [
           {
            "fillpattern": {
             "fillmode": "overlay",
             "size": 10,
             "solidity": 0.2
            },
            "type": "scatter"
           }
          ],
          "scatter3d": [
           {
            "line": {
             "colorbar": {
              "outlinewidth": 0,
              "ticks": ""
             }
            },
            "marker": {
             "colorbar": {
              "outlinewidth": 0,
              "ticks": ""
             }
            },
            "type": "scatter3d"
           }
          ],
          "scattercarpet": [
           {
            "marker": {
             "colorbar": {
              "outlinewidth": 0,
              "ticks": ""
             }
            },
            "type": "scattercarpet"
           }
          ],
          "scattergeo": [
           {
            "marker": {
             "colorbar": {
              "outlinewidth": 0,
              "ticks": ""
             }
            },
            "type": "scattergeo"
           }
          ],
          "scattergl": [
           {
            "marker": {
             "colorbar": {
              "outlinewidth": 0,
              "ticks": ""
             }
            },
            "type": "scattergl"
           }
          ],
          "scattermapbox": [
           {
            "marker": {
             "colorbar": {
              "outlinewidth": 0,
              "ticks": ""
             }
            },
            "type": "scattermapbox"
           }
          ],
          "scatterpolar": [
           {
            "marker": {
             "colorbar": {
              "outlinewidth": 0,
              "ticks": ""
             }
            },
            "type": "scatterpolar"
           }
          ],
          "scatterpolargl": [
           {
            "marker": {
             "colorbar": {
              "outlinewidth": 0,
              "ticks": ""
             }
            },
            "type": "scatterpolargl"
           }
          ],
          "scatterternary": [
           {
            "marker": {
             "colorbar": {
              "outlinewidth": 0,
              "ticks": ""
             }
            },
            "type": "scatterternary"
           }
          ],
          "surface": [
           {
            "colorbar": {
             "outlinewidth": 0,
             "ticks": ""
            },
            "colorscale": [
             [
              0,
              "#0d0887"
             ],
             [
              0.1111111111111111,
              "#46039f"
             ],
             [
              0.2222222222222222,
              "#7201a8"
             ],
             [
              0.3333333333333333,
              "#9c179e"
             ],
             [
              0.4444444444444444,
              "#bd3786"
             ],
             [
              0.5555555555555556,
              "#d8576b"
             ],
             [
              0.6666666666666666,
              "#ed7953"
             ],
             [
              0.7777777777777778,
              "#fb9f3a"
             ],
             [
              0.8888888888888888,
              "#fdca26"
             ],
             [
              1,
              "#f0f921"
             ]
            ],
            "type": "surface"
           }
          ],
          "table": [
           {
            "cells": {
             "fill": {
              "color": "#EBF0F8"
             },
             "line": {
              "color": "white"
             }
            },
            "header": {
             "fill": {
              "color": "#C8D4E3"
             },
             "line": {
              "color": "white"
             }
            },
            "type": "table"
           }
          ]
         },
         "layout": {
          "annotationdefaults": {
           "arrowcolor": "#2a3f5f",
           "arrowhead": 0,
           "arrowwidth": 1
          },
          "autotypenumbers": "strict",
          "coloraxis": {
           "colorbar": {
            "outlinewidth": 0,
            "ticks": ""
           }
          },
          "colorscale": {
           "diverging": [
            [
             0,
             "#8e0152"
            ],
            [
             0.1,
             "#c51b7d"
            ],
            [
             0.2,
             "#de77ae"
            ],
            [
             0.3,
             "#f1b6da"
            ],
            [
             0.4,
             "#fde0ef"
            ],
            [
             0.5,
             "#f7f7f7"
            ],
            [
             0.6,
             "#e6f5d0"
            ],
            [
             0.7,
             "#b8e186"
            ],
            [
             0.8,
             "#7fbc41"
            ],
            [
             0.9,
             "#4d9221"
            ],
            [
             1,
             "#276419"
            ]
           ],
           "sequential": [
            [
             0,
             "#0d0887"
            ],
            [
             0.1111111111111111,
             "#46039f"
            ],
            [
             0.2222222222222222,
             "#7201a8"
            ],
            [
             0.3333333333333333,
             "#9c179e"
            ],
            [
             0.4444444444444444,
             "#bd3786"
            ],
            [
             0.5555555555555556,
             "#d8576b"
            ],
            [
             0.6666666666666666,
             "#ed7953"
            ],
            [
             0.7777777777777778,
             "#fb9f3a"
            ],
            [
             0.8888888888888888,
             "#fdca26"
            ],
            [
             1,
             "#f0f921"
            ]
           ],
           "sequentialminus": [
            [
             0,
             "#0d0887"
            ],
            [
             0.1111111111111111,
             "#46039f"
            ],
            [
             0.2222222222222222,
             "#7201a8"
            ],
            [
             0.3333333333333333,
             "#9c179e"
            ],
            [
             0.4444444444444444,
             "#bd3786"
            ],
            [
             0.5555555555555556,
             "#d8576b"
            ],
            [
             0.6666666666666666,
             "#ed7953"
            ],
            [
             0.7777777777777778,
             "#fb9f3a"
            ],
            [
             0.8888888888888888,
             "#fdca26"
            ],
            [
             1,
             "#f0f921"
            ]
           ]
          },
          "colorway": [
           "#636efa",
           "#EF553B",
           "#00cc96",
           "#ab63fa",
           "#FFA15A",
           "#19d3f3",
           "#FF6692",
           "#B6E880",
           "#FF97FF",
           "#FECB52"
          ],
          "font": {
           "color": "#2a3f5f"
          },
          "geo": {
           "bgcolor": "white",
           "lakecolor": "white",
           "landcolor": "#E5ECF6",
           "showlakes": true,
           "showland": true,
           "subunitcolor": "white"
          },
          "hoverlabel": {
           "align": "left"
          },
          "hovermode": "closest",
          "mapbox": {
           "style": "light"
          },
          "paper_bgcolor": "white",
          "plot_bgcolor": "#E5ECF6",
          "polar": {
           "angularaxis": {
            "gridcolor": "white",
            "linecolor": "white",
            "ticks": ""
           },
           "bgcolor": "#E5ECF6",
           "radialaxis": {
            "gridcolor": "white",
            "linecolor": "white",
            "ticks": ""
           }
          },
          "scene": {
           "xaxis": {
            "backgroundcolor": "#E5ECF6",
            "gridcolor": "white",
            "gridwidth": 2,
            "linecolor": "white",
            "showbackground": true,
            "ticks": "",
            "zerolinecolor": "white"
           },
           "yaxis": {
            "backgroundcolor": "#E5ECF6",
            "gridcolor": "white",
            "gridwidth": 2,
            "linecolor": "white",
            "showbackground": true,
            "ticks": "",
            "zerolinecolor": "white"
           },
           "zaxis": {
            "backgroundcolor": "#E5ECF6",
            "gridcolor": "white",
            "gridwidth": 2,
            "linecolor": "white",
            "showbackground": true,
            "ticks": "",
            "zerolinecolor": "white"
           }
          },
          "shapedefaults": {
           "line": {
            "color": "#2a3f5f"
           }
          },
          "ternary": {
           "aaxis": {
            "gridcolor": "white",
            "linecolor": "white",
            "ticks": ""
           },
           "baxis": {
            "gridcolor": "white",
            "linecolor": "white",
            "ticks": ""
           },
           "bgcolor": "#E5ECF6",
           "caxis": {
            "gridcolor": "white",
            "linecolor": "white",
            "ticks": ""
           }
          },
          "title": {
           "x": 0.05
          },
          "xaxis": {
           "automargin": true,
           "gridcolor": "white",
           "linecolor": "white",
           "ticks": "",
           "title": {
            "standoff": 15
           },
           "zerolinecolor": "white",
           "zerolinewidth": 2
          },
          "yaxis": {
           "automargin": true,
           "gridcolor": "white",
           "linecolor": "white",
           "ticks": "",
           "title": {
            "standoff": 15
           },
           "zerolinecolor": "white",
           "zerolinewidth": 2
          }
         }
        },
        "title": {
         "text": "Cantidad de mensajes vs Tiempo",
         "x": 0.5,
         "xanchor": "center",
         "y": 0.96
        },
        "xaxis": {
         "anchor": "y",
         "domain": [
          0,
          1
         ],
         "tickangle": 30,
         "title": {
          "text": "Rango de hora"
         }
        },
        "yaxis": {
         "anchor": "x",
         "domain": [
          0,
          1
         ],
         "title": {
          "text": "# Mensajes"
         }
        }
       }
      }
     },
     "metadata": {},
     "output_type": "display_data"
    }
   ],
   "source": [
    "# Crear una columna de 1 para realizar el conteo de mensajes\n",
    "df['# Mensajes en esta hora'] = 1\n",
    "\n",
    "# Sumar (contar) los mensajes que tengan la misma fecha\n",
    "#date_df = df.groupby('rangoHora').sum()\n",
    "#date_df.reset_index(inplace=True)\n",
    "\n",
    "date_df = df.groupby('HoraParseada')['# Mensajes en esta hora'].count().reset_index()\n",
    "\n",
    "\n",
    "# Plotear la cantidad de mensajes respecto del tiempo\n",
    "fig = px.line(date_df, x='HoraParseada', y='# Mensajes en esta hora')\n",
    "\n",
    "# Ajustar el gráfico\n",
    "fig.update_layout(\n",
    "    title={'text': 'Cantidad de mensajes vs Tiempo',\n",
    "             'y':0.96,\n",
    "             'x':0.5,\n",
    "             'xanchor': 'center'},\n",
    "    font=dict(size=12))\n",
    "fig.update_xaxes(title_text='Rango de hora', tickangle=30)\n",
    "fig.update_yaxes(title_text='# Mensajes')\n",
    "fig.show()"
   ]
  },
  {
   "cell_type": "code",
   "execution_count": 62,
   "metadata": {},
   "outputs": [
    {
     "name": "stdout",
     "output_type": "stream",
     "text": [
      "0       2023-11-11\n",
      "1       2023-11-11\n",
      "2       2023-11-11\n",
      "3       2023-11-11\n",
      "4       2023-11-11\n",
      "           ...    \n",
      "39993   2024-02-14\n",
      "39994   2024-02-14\n",
      "39995   2024-02-14\n",
      "39996   2024-02-14\n",
      "39997   2024-02-14\n",
      "Name: Fecha, Length: 39998, dtype: datetime64[ns]\n"
     ]
    }
   ],
   "source": [
    "df['Fecha'] = pd.to_datetime(df['Fecha'], format='%d/%m/%Y')\n",
    "print(df['Fecha'])"
   ]
  },
  {
   "cell_type": "code",
   "execution_count": 65,
   "metadata": {},
   "outputs": [
    {
     "name": "stdout",
     "output_type": "stream",
     "text": [
      "        Fecha  # Mensajes por día\n",
      "0  2023-11-11                 263\n",
      "1  2023-11-12                 244\n",
      "2  2023-11-13                 542\n",
      "3  2023-11-14                 363\n",
      "4  2023-11-15                 766\n",
      "..        ...                 ...\n",
      "80 2024-02-10                  28\n",
      "81 2024-02-11                 125\n",
      "82 2024-02-12                 301\n",
      "83 2024-02-13                 262\n",
      "84 2024-02-14                 260\n",
      "\n",
      "[85 rows x 2 columns]\n"
     ]
    }
   ],
   "source": [
    "df['# Mensajes por día'] = 1\n",
    "\n",
    "# Sumar (contar) los mensajes que tengan la misma fecha\n",
    "date_df = df.groupby('Fecha')['# Mensajes por día'].sum().reset_index()\n",
    "date_df.sort_values(by='Fecha', inplace=True)\n",
    "print(date_df)"
   ]
  },
  {
   "cell_type": "markdown",
   "metadata": {},
   "source": [
    "#### Número de mensajes a través del tiempo"
   ]
  },
  {
   "cell_type": "code",
   "execution_count": 66,
   "metadata": {},
   "outputs": [
    {
     "data": {
      "application/vnd.plotly.v1+json": {
       "config": {
        "plotlyServerURL": "https://plot.ly"
       },
       "data": [
        {
         "hovertemplate": "Fecha=%{x}<br># Mensajes por día=%{y}<extra></extra>",
         "legendgroup": "",
         "line": {
          "color": "#636efa",
          "dash": "solid"
         },
         "marker": {
          "symbol": "circle"
         },
         "mode": "lines",
         "name": "",
         "orientation": "v",
         "showlegend": false,
         "type": "scatter",
         "x": [
          "2023-11-11T00:00:00",
          "2023-11-12T00:00:00",
          "2023-11-13T00:00:00",
          "2023-11-14T00:00:00",
          "2023-11-15T00:00:00",
          "2023-11-16T00:00:00",
          "2023-11-17T00:00:00",
          "2023-11-18T00:00:00",
          "2023-11-19T00:00:00",
          "2023-11-20T00:00:00",
          "2023-11-21T00:00:00",
          "2023-11-22T00:00:00",
          "2023-11-23T00:00:00",
          "2023-11-24T00:00:00",
          "2023-11-25T00:00:00",
          "2023-11-26T00:00:00",
          "2023-11-27T00:00:00",
          "2023-11-28T00:00:00",
          "2023-11-29T00:00:00",
          "2023-11-30T00:00:00",
          "2023-12-01T00:00:00",
          "2023-12-02T00:00:00",
          "2023-12-03T00:00:00",
          "2023-12-04T00:00:00",
          "2023-12-05T00:00:00",
          "2023-12-06T00:00:00",
          "2023-12-07T00:00:00",
          "2023-12-08T00:00:00",
          "2023-12-09T00:00:00",
          "2023-12-10T00:00:00",
          "2023-12-11T00:00:00",
          "2023-12-12T00:00:00",
          "2023-12-13T00:00:00",
          "2023-12-14T00:00:00",
          "2023-12-15T00:00:00",
          "2023-12-27T00:00:00",
          "2023-12-28T00:00:00",
          "2023-12-29T00:00:00",
          "2023-12-30T00:00:00",
          "2023-12-31T00:00:00",
          "2024-01-01T00:00:00",
          "2024-01-02T00:00:00",
          "2024-01-03T00:00:00",
          "2024-01-04T00:00:00",
          "2024-01-05T00:00:00",
          "2024-01-06T00:00:00",
          "2024-01-07T00:00:00",
          "2024-01-08T00:00:00",
          "2024-01-09T00:00:00",
          "2024-01-10T00:00:00",
          "2024-01-11T00:00:00",
          "2024-01-12T00:00:00",
          "2024-01-13T00:00:00",
          "2024-01-14T00:00:00",
          "2024-01-15T00:00:00",
          "2024-01-16T00:00:00",
          "2024-01-17T00:00:00",
          "2024-01-18T00:00:00",
          "2024-01-19T00:00:00",
          "2024-01-20T00:00:00",
          "2024-01-21T00:00:00",
          "2024-01-22T00:00:00",
          "2024-01-23T00:00:00",
          "2024-01-24T00:00:00",
          "2024-01-25T00:00:00",
          "2024-01-26T00:00:00",
          "2024-01-27T00:00:00",
          "2024-01-28T00:00:00",
          "2024-01-29T00:00:00",
          "2024-01-30T00:00:00",
          "2024-01-31T00:00:00",
          "2024-02-01T00:00:00",
          "2024-02-02T00:00:00",
          "2024-02-03T00:00:00",
          "2024-02-04T00:00:00",
          "2024-02-05T00:00:00",
          "2024-02-06T00:00:00",
          "2024-02-07T00:00:00",
          "2024-02-08T00:00:00",
          "2024-02-09T00:00:00",
          "2024-02-10T00:00:00",
          "2024-02-11T00:00:00",
          "2024-02-12T00:00:00",
          "2024-02-13T00:00:00",
          "2024-02-14T00:00:00"
         ],
         "xaxis": "x",
         "y": [
          263,
          244,
          542,
          363,
          766,
          369,
          267,
          649,
          378,
          516,
          463,
          580,
          463,
          341,
          441,
          337,
          873,
          346,
          522,
          503,
          378,
          923,
          253,
          439,
          455,
          623,
          268,
          624,
          907,
          592,
          755,
          391,
          992,
          472,
          36,
          219,
          245,
          1034,
          389,
          936,
          330,
          870,
          380,
          768,
          430,
          347,
          322,
          529,
          455,
          293,
          576,
          1022,
          315,
          175,
          289,
          429,
          760,
          244,
          398,
          545,
          303,
          771,
          369,
          812,
          483,
          265,
          638,
          359,
          961,
          330,
          605,
          196,
          536,
          242,
          488,
          523,
          456,
          399,
          415,
          237,
          28,
          125,
          301,
          262,
          260
         ],
         "yaxis": "y"
        }
       ],
       "layout": {
        "font": {
         "size": 17
        },
        "legend": {
         "tracegroupgap": 0
        },
        "margin": {
         "t": 60
        },
        "template": {
         "data": {
          "bar": [
           {
            "error_x": {
             "color": "#2a3f5f"
            },
            "error_y": {
             "color": "#2a3f5f"
            },
            "marker": {
             "line": {
              "color": "#E5ECF6",
              "width": 0.5
             },
             "pattern": {
              "fillmode": "overlay",
              "size": 10,
              "solidity": 0.2
             }
            },
            "type": "bar"
           }
          ],
          "barpolar": [
           {
            "marker": {
             "line": {
              "color": "#E5ECF6",
              "width": 0.5
             },
             "pattern": {
              "fillmode": "overlay",
              "size": 10,
              "solidity": 0.2
             }
            },
            "type": "barpolar"
           }
          ],
          "carpet": [
           {
            "aaxis": {
             "endlinecolor": "#2a3f5f",
             "gridcolor": "white",
             "linecolor": "white",
             "minorgridcolor": "white",
             "startlinecolor": "#2a3f5f"
            },
            "baxis": {
             "endlinecolor": "#2a3f5f",
             "gridcolor": "white",
             "linecolor": "white",
             "minorgridcolor": "white",
             "startlinecolor": "#2a3f5f"
            },
            "type": "carpet"
           }
          ],
          "choropleth": [
           {
            "colorbar": {
             "outlinewidth": 0,
             "ticks": ""
            },
            "type": "choropleth"
           }
          ],
          "contour": [
           {
            "colorbar": {
             "outlinewidth": 0,
             "ticks": ""
            },
            "colorscale": [
             [
              0,
              "#0d0887"
             ],
             [
              0.1111111111111111,
              "#46039f"
             ],
             [
              0.2222222222222222,
              "#7201a8"
             ],
             [
              0.3333333333333333,
              "#9c179e"
             ],
             [
              0.4444444444444444,
              "#bd3786"
             ],
             [
              0.5555555555555556,
              "#d8576b"
             ],
             [
              0.6666666666666666,
              "#ed7953"
             ],
             [
              0.7777777777777778,
              "#fb9f3a"
             ],
             [
              0.8888888888888888,
              "#fdca26"
             ],
             [
              1,
              "#f0f921"
             ]
            ],
            "type": "contour"
           }
          ],
          "contourcarpet": [
           {
            "colorbar": {
             "outlinewidth": 0,
             "ticks": ""
            },
            "type": "contourcarpet"
           }
          ],
          "heatmap": [
           {
            "colorbar": {
             "outlinewidth": 0,
             "ticks": ""
            },
            "colorscale": [
             [
              0,
              "#0d0887"
             ],
             [
              0.1111111111111111,
              "#46039f"
             ],
             [
              0.2222222222222222,
              "#7201a8"
             ],
             [
              0.3333333333333333,
              "#9c179e"
             ],
             [
              0.4444444444444444,
              "#bd3786"
             ],
             [
              0.5555555555555556,
              "#d8576b"
             ],
             [
              0.6666666666666666,
              "#ed7953"
             ],
             [
              0.7777777777777778,
              "#fb9f3a"
             ],
             [
              0.8888888888888888,
              "#fdca26"
             ],
             [
              1,
              "#f0f921"
             ]
            ],
            "type": "heatmap"
           }
          ],
          "heatmapgl": [
           {
            "colorbar": {
             "outlinewidth": 0,
             "ticks": ""
            },
            "colorscale": [
             [
              0,
              "#0d0887"
             ],
             [
              0.1111111111111111,
              "#46039f"
             ],
             [
              0.2222222222222222,
              "#7201a8"
             ],
             [
              0.3333333333333333,
              "#9c179e"
             ],
             [
              0.4444444444444444,
              "#bd3786"
             ],
             [
              0.5555555555555556,
              "#d8576b"
             ],
             [
              0.6666666666666666,
              "#ed7953"
             ],
             [
              0.7777777777777778,
              "#fb9f3a"
             ],
             [
              0.8888888888888888,
              "#fdca26"
             ],
             [
              1,
              "#f0f921"
             ]
            ],
            "type": "heatmapgl"
           }
          ],
          "histogram": [
           {
            "marker": {
             "pattern": {
              "fillmode": "overlay",
              "size": 10,
              "solidity": 0.2
             }
            },
            "type": "histogram"
           }
          ],
          "histogram2d": [
           {
            "colorbar": {
             "outlinewidth": 0,
             "ticks": ""
            },
            "colorscale": [
             [
              0,
              "#0d0887"
             ],
             [
              0.1111111111111111,
              "#46039f"
             ],
             [
              0.2222222222222222,
              "#7201a8"
             ],
             [
              0.3333333333333333,
              "#9c179e"
             ],
             [
              0.4444444444444444,
              "#bd3786"
             ],
             [
              0.5555555555555556,
              "#d8576b"
             ],
             [
              0.6666666666666666,
              "#ed7953"
             ],
             [
              0.7777777777777778,
              "#fb9f3a"
             ],
             [
              0.8888888888888888,
              "#fdca26"
             ],
             [
              1,
              "#f0f921"
             ]
            ],
            "type": "histogram2d"
           }
          ],
          "histogram2dcontour": [
           {
            "colorbar": {
             "outlinewidth": 0,
             "ticks": ""
            },
            "colorscale": [
             [
              0,
              "#0d0887"
             ],
             [
              0.1111111111111111,
              "#46039f"
             ],
             [
              0.2222222222222222,
              "#7201a8"
             ],
             [
              0.3333333333333333,
              "#9c179e"
             ],
             [
              0.4444444444444444,
              "#bd3786"
             ],
             [
              0.5555555555555556,
              "#d8576b"
             ],
             [
              0.6666666666666666,
              "#ed7953"
             ],
             [
              0.7777777777777778,
              "#fb9f3a"
             ],
             [
              0.8888888888888888,
              "#fdca26"
             ],
             [
              1,
              "#f0f921"
             ]
            ],
            "type": "histogram2dcontour"
           }
          ],
          "mesh3d": [
           {
            "colorbar": {
             "outlinewidth": 0,
             "ticks": ""
            },
            "type": "mesh3d"
           }
          ],
          "parcoords": [
           {
            "line": {
             "colorbar": {
              "outlinewidth": 0,
              "ticks": ""
             }
            },
            "type": "parcoords"
           }
          ],
          "pie": [
           {
            "automargin": true,
            "type": "pie"
           }
          ],
          "scatter": [
           {
            "fillpattern": {
             "fillmode": "overlay",
             "size": 10,
             "solidity": 0.2
            },
            "type": "scatter"
           }
          ],
          "scatter3d": [
           {
            "line": {
             "colorbar": {
              "outlinewidth": 0,
              "ticks": ""
             }
            },
            "marker": {
             "colorbar": {
              "outlinewidth": 0,
              "ticks": ""
             }
            },
            "type": "scatter3d"
           }
          ],
          "scattercarpet": [
           {
            "marker": {
             "colorbar": {
              "outlinewidth": 0,
              "ticks": ""
             }
            },
            "type": "scattercarpet"
           }
          ],
          "scattergeo": [
           {
            "marker": {
             "colorbar": {
              "outlinewidth": 0,
              "ticks": ""
             }
            },
            "type": "scattergeo"
           }
          ],
          "scattergl": [
           {
            "marker": {
             "colorbar": {
              "outlinewidth": 0,
              "ticks": ""
             }
            },
            "type": "scattergl"
           }
          ],
          "scattermapbox": [
           {
            "marker": {
             "colorbar": {
              "outlinewidth": 0,
              "ticks": ""
             }
            },
            "type": "scattermapbox"
           }
          ],
          "scatterpolar": [
           {
            "marker": {
             "colorbar": {
              "outlinewidth": 0,
              "ticks": ""
             }
            },
            "type": "scatterpolar"
           }
          ],
          "scatterpolargl": [
           {
            "marker": {
             "colorbar": {
              "outlinewidth": 0,
              "ticks": ""
             }
            },
            "type": "scatterpolargl"
           }
          ],
          "scatterternary": [
           {
            "marker": {
             "colorbar": {
              "outlinewidth": 0,
              "ticks": ""
             }
            },
            "type": "scatterternary"
           }
          ],
          "surface": [
           {
            "colorbar": {
             "outlinewidth": 0,
             "ticks": ""
            },
            "colorscale": [
             [
              0,
              "#0d0887"
             ],
             [
              0.1111111111111111,
              "#46039f"
             ],
             [
              0.2222222222222222,
              "#7201a8"
             ],
             [
              0.3333333333333333,
              "#9c179e"
             ],
             [
              0.4444444444444444,
              "#bd3786"
             ],
             [
              0.5555555555555556,
              "#d8576b"
             ],
             [
              0.6666666666666666,
              "#ed7953"
             ],
             [
              0.7777777777777778,
              "#fb9f3a"
             ],
             [
              0.8888888888888888,
              "#fdca26"
             ],
             [
              1,
              "#f0f921"
             ]
            ],
            "type": "surface"
           }
          ],
          "table": [
           {
            "cells": {
             "fill": {
              "color": "#EBF0F8"
             },
             "line": {
              "color": "white"
             }
            },
            "header": {
             "fill": {
              "color": "#C8D4E3"
             },
             "line": {
              "color": "white"
             }
            },
            "type": "table"
           }
          ]
         },
         "layout": {
          "annotationdefaults": {
           "arrowcolor": "#2a3f5f",
           "arrowhead": 0,
           "arrowwidth": 1
          },
          "autotypenumbers": "strict",
          "coloraxis": {
           "colorbar": {
            "outlinewidth": 0,
            "ticks": ""
           }
          },
          "colorscale": {
           "diverging": [
            [
             0,
             "#8e0152"
            ],
            [
             0.1,
             "#c51b7d"
            ],
            [
             0.2,
             "#de77ae"
            ],
            [
             0.3,
             "#f1b6da"
            ],
            [
             0.4,
             "#fde0ef"
            ],
            [
             0.5,
             "#f7f7f7"
            ],
            [
             0.6,
             "#e6f5d0"
            ],
            [
             0.7,
             "#b8e186"
            ],
            [
             0.8,
             "#7fbc41"
            ],
            [
             0.9,
             "#4d9221"
            ],
            [
             1,
             "#276419"
            ]
           ],
           "sequential": [
            [
             0,
             "#0d0887"
            ],
            [
             0.1111111111111111,
             "#46039f"
            ],
            [
             0.2222222222222222,
             "#7201a8"
            ],
            [
             0.3333333333333333,
             "#9c179e"
            ],
            [
             0.4444444444444444,
             "#bd3786"
            ],
            [
             0.5555555555555556,
             "#d8576b"
            ],
            [
             0.6666666666666666,
             "#ed7953"
            ],
            [
             0.7777777777777778,
             "#fb9f3a"
            ],
            [
             0.8888888888888888,
             "#fdca26"
            ],
            [
             1,
             "#f0f921"
            ]
           ],
           "sequentialminus": [
            [
             0,
             "#0d0887"
            ],
            [
             0.1111111111111111,
             "#46039f"
            ],
            [
             0.2222222222222222,
             "#7201a8"
            ],
            [
             0.3333333333333333,
             "#9c179e"
            ],
            [
             0.4444444444444444,
             "#bd3786"
            ],
            [
             0.5555555555555556,
             "#d8576b"
            ],
            [
             0.6666666666666666,
             "#ed7953"
            ],
            [
             0.7777777777777778,
             "#fb9f3a"
            ],
            [
             0.8888888888888888,
             "#fdca26"
            ],
            [
             1,
             "#f0f921"
            ]
           ]
          },
          "colorway": [
           "#636efa",
           "#EF553B",
           "#00cc96",
           "#ab63fa",
           "#FFA15A",
           "#19d3f3",
           "#FF6692",
           "#B6E880",
           "#FF97FF",
           "#FECB52"
          ],
          "font": {
           "color": "#2a3f5f"
          },
          "geo": {
           "bgcolor": "white",
           "lakecolor": "white",
           "landcolor": "#E5ECF6",
           "showlakes": true,
           "showland": true,
           "subunitcolor": "white"
          },
          "hoverlabel": {
           "align": "left"
          },
          "hovermode": "closest",
          "mapbox": {
           "style": "light"
          },
          "paper_bgcolor": "white",
          "plot_bgcolor": "#E5ECF6",
          "polar": {
           "angularaxis": {
            "gridcolor": "white",
            "linecolor": "white",
            "ticks": ""
           },
           "bgcolor": "#E5ECF6",
           "radialaxis": {
            "gridcolor": "white",
            "linecolor": "white",
            "ticks": ""
           }
          },
          "scene": {
           "xaxis": {
            "backgroundcolor": "#E5ECF6",
            "gridcolor": "white",
            "gridwidth": 2,
            "linecolor": "white",
            "showbackground": true,
            "ticks": "",
            "zerolinecolor": "white"
           },
           "yaxis": {
            "backgroundcolor": "#E5ECF6",
            "gridcolor": "white",
            "gridwidth": 2,
            "linecolor": "white",
            "showbackground": true,
            "ticks": "",
            "zerolinecolor": "white"
           },
           "zaxis": {
            "backgroundcolor": "#E5ECF6",
            "gridcolor": "white",
            "gridwidth": 2,
            "linecolor": "white",
            "showbackground": true,
            "ticks": "",
            "zerolinecolor": "white"
           }
          },
          "shapedefaults": {
           "line": {
            "color": "#2a3f5f"
           }
          },
          "ternary": {
           "aaxis": {
            "gridcolor": "white",
            "linecolor": "white",
            "ticks": ""
           },
           "baxis": {
            "gridcolor": "white",
            "linecolor": "white",
            "ticks": ""
           },
           "bgcolor": "#E5ECF6",
           "caxis": {
            "gridcolor": "white",
            "linecolor": "white",
            "ticks": ""
           }
          },
          "title": {
           "x": 0.05
          },
          "xaxis": {
           "automargin": true,
           "gridcolor": "white",
           "linecolor": "white",
           "ticks": "",
           "title": {
            "standoff": 15
           },
           "zerolinecolor": "white",
           "zerolinewidth": 2
          },
          "yaxis": {
           "automargin": true,
           "gridcolor": "white",
           "linecolor": "white",
           "ticks": "",
           "title": {
            "standoff": 15
           },
           "zerolinecolor": "white",
           "zerolinewidth": 2
          }
         }
        },
        "title": {
         "text": "Cantidad de mensajes vs Tiempo",
         "x": 0.5,
         "xanchor": "center",
         "y": 0.96
        },
        "xaxis": {
         "anchor": "y",
         "domain": [
          0,
          1
         ],
         "nticks": 35,
         "tickangle": 45,
         "title": {
          "text": "Fecha"
         }
        },
        "yaxis": {
         "anchor": "x",
         "domain": [
          0,
          1
         ],
         "title": {
          "text": "# Mensajes"
         }
        }
       }
      }
     },
     "metadata": {},
     "output_type": "display_data"
    }
   ],
   "source": [
    "#Plotear la cantidad de mensajes respecto del tiempo\n",
    "fig = px.line(date_df, x='Fecha', y='# Mensajes por día')\n",
    "\n",
    "# Ajustar el gráfico\n",
    "fig.update_layout(\n",
    "    title={'text': 'Cantidad de mensajes vs Tiempo',\n",
    "             'y':0.96,\n",
    "             'x':0.5,\n",
    "             'xanchor': 'center'},\n",
    "    font=dict(size=17))\n",
    "fig.update_xaxes(title_text='Fecha', tickangle=45, nticks=35)\n",
    "fig.update_yaxes(title_text='# Mensajes')\n",
    "fig.show()"
   ]
  },
  {
   "cell_type": "markdown",
   "metadata": {
    "id": "_siO-ghIOInr"
   },
   "source": [
    "#### Word Cloud de palabras más usadas por el grupo"
   ]
  },
  {
   "cell_type": "code",
   "execution_count": 46,
   "metadata": {
    "colab": {
     "base_uri": "https://localhost:8080/",
     "height": 817
    },
    "id": "y7-gSL_eFWYm",
    "outputId": "c19a0b9c-835e-46ef-9476-4a967314ca68"
   },
   "outputs": [
    {
     "data": {
      "image/jpeg": "[encoded data removed]",
      "image/png": "[encoded data removed]",
      "text/plain": [
       "<PIL.Image.Image image mode=RGB size=1000x700>"
      ]
     },
     "execution_count": 46,
     "metadata": {},
     "output_type": "execute_result"
    }
   ],
   "source": [
    "# Crear un string que contendrá todas las palabras\n",
    "total_palabras = ' '\n",
    "stopwords = STOPWORDS.update(['que', 'qué', 'con', 'de', 'te', 'en', 'la', 'lo', 'le', 'el', 'las', 'los', 'les', 'por', 'es',\n",
    "                              'son', 'se', 'para', 'un', 'una', 'chicos', 'su', 'si', 'chic','nos', 'ya', 'hay', 'esta',\n",
    "                              'pero', 'del', 'mas', 'más', 'eso', 'este', 'como', 'así', 'todo', 'https','Media','omitted',\n",
    "                              'y', 'mi', 'o', 'q', 'yo', 'al'])\n",
    "\n",
    "# Obtener y acumular todas las palabras de cada mensaje\n",
    "for mensaje in mensajes_df['Mensaje'].values:\n",
    "    palabras = str(mensaje).lower().split() # Obtener las palabras de cada línea del txt\n",
    "    for palabra in palabras:\n",
    "        total_palabras = total_palabras + palabra + ' ' # Acumular todas las palabras\n",
    "\n",
    "wordcloud = WordCloud(width = 1000, height = 700,\n",
    "                background_color ='white',\n",
    "                stopwords = stopwords,\n",
    "                min_font_size = 10).generate(total_palabras)\n",
    "\n",
    "# Plotear la nube de palabras más usadas\n",
    "wordcloud.to_image()"
   ]
  }
 ],
 "metadata": {
  "accelerator": "GPU",
  "colab": {
   "machine_shape": "hm",
   "provenance": []
  },
  "kernelspec": {
   "display_name": "Python 3",
   "language": "python",
   "name": "python3"
  },
  "language_info": {
   "codemirror_mode": {
    "name": "ipython",
    "version": 3
   },
   "file_extension": ".py",
   "mimetype": "text/x-python",
   "name": "python",
   "nbconvert_exporter": "python",
   "pygments_lexer": "ipython3",
   "version": "3.8.5"
  }
 },
 "nbformat": 4,
 "nbformat_minor": 1
}
